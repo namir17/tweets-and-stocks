{
 "cells": [
  {
   "cell_type": "code",
   "execution_count": 1,
   "metadata": {},
   "outputs": [],
   "source": [
    "import pandas as pd\n",
    "from path import Path"
   ]
  },
  {
   "cell_type": "code",
   "execution_count": 2,
   "metadata": {},
   "outputs": [],
   "source": [
    "def csv_to_df(stock_csv, sentiment_results_csv):\n",
    "    file_path1 = Path(stock_csv)\n",
    "    file_path2 = Path(sentiment_results_csv)\n",
    "    stock_df = pd.read_csv(file_path1)\n",
    "    sentiment_result = pd.read_csv(file_path2)\n",
    "    \n",
    "    return stock_df, sentiment_result"
   ]
  },
  {
   "cell_type": "code",
   "execution_count": 3,
   "metadata": {},
   "outputs": [],
   "source": [
    "def calculate_mean(sent_results_df):\n",
    "    sent_results_df['Date'] = pd.to_datetime(sent_results_df.created_at, format='%Y-%m-%d')\n",
    "    sum_sent = sent_results_df.groupby(sent_results_df['Date'].dt.date).mean()\n",
    "    \n",
    "    return sum_sent\n"
   ]
  },
  {
   "cell_type": "code",
   "execution_count": 4,
   "metadata": {},
   "outputs": [],
   "source": [
    "def merge_dfs(stock_df, sum_sent):\n",
    "    stock_df['Date'] = pd.to_datetime(stock_df.Date, format='%Y-%m-%d')\n",
    "    stock_df = stock_df.set_index(\"Date\")\n",
    "    input_df = pd.concat([stock_df, sum_sent], axis=1)\n",
    "    \n",
    "    return input_df"
   ]
  },
  {
   "cell_type": "code",
   "execution_count": 5,
   "metadata": {},
   "outputs": [],
   "source": [
    "def create_csv(input_df, csv_name):\n",
    "    input_df.to_csv(csv_name, encoding='utf-8', index=True)"
   ]
  },
  {
   "cell_type": "code",
   "execution_count": 6,
   "metadata": {},
   "outputs": [],
   "source": [
    "aapl_stock_df, aapl_sent_result_df = csv_to_df(\"../stock_data/aapl.csv\", \"../sentiment_analysis/sentiment_analysis/aapl_sent_results.csv\")\n",
    "btc_stock_df, btc_sent_result_df = csv_to_df(\"../stock_data/btc.csv\", \"../sentiment_analysis/sentiment_analysis/btc_sent_results.csv\")\n",
    "jnj_stock_df, jnj_sent_result_df = csv_to_df(\"../stock_data/jnj.csv\", \"../sentiment_analysis/sentiment_analysis/jnj_sent_results.csv\")\n",
    "msft_stock_df, msft_sent_result_df = csv_to_df(\"../stock_data/msft.csv\", \"../sentiment_analysis/sentiment_analysis/msft_sent_results.csv\")\n",
    "nflx_stock_df, nflx_sent_result_df = csv_to_df(\"../stock_data/nflx.csv\", \"../sentiment_analysis/sentiment_analysis/nflx_sent_results.csv\")\n",
    "pfe_stock_df, pfe_sent_result_df = csv_to_df(\"../stock_data/pfe.csv\", \"../sentiment_analysis/sentiment_analysis/pfe_sent_results.csv\")\n",
    "tsla_stock_df, tsla_sent_result_df = csv_to_df(\"../stock_data/tsla.csv\", \"../sentiment_analysis/sentiment_analysis/tsla_sent_results.csv\")\n",
    "twr_stock_df, twr_sent_result_df = csv_to_df(\"../stock_data/twr.csv\", \"../sentiment_analysis/sentiment_analysis/twr_sent_results.csv\")"
   ]
  },
  {
   "cell_type": "code",
   "execution_count": 7,
   "metadata": {},
   "outputs": [],
   "source": [
    "sum_aapl_sent = calculate_mean(aapl_sent_result_df)\n",
    "sum_btc_sent = calculate_mean(btc_sent_result_df)\n",
    "sum_jnj_sent = calculate_mean(jnj_sent_result_df)\n",
    "sum_msft_sent = calculate_mean(msft_sent_result_df)\n",
    "sum_nflx_sent = calculate_mean(nflx_sent_result_df)\n",
    "sum_pfe_sent = calculate_mean(pfe_sent_result_df)\n",
    "sum_tsla_sent = calculate_mean(tsla_sent_result_df)\n",
    "sum_twr_sent = calculate_mean(twr_sent_result_df)"
   ]
  },
  {
   "cell_type": "code",
   "execution_count": 8,
   "metadata": {},
   "outputs": [],
   "source": [
    "aapl_input_df = merge_dfs(aapl_stock_df, sum_aapl_sent)\n",
    "btc_input_df = merge_dfs(btc_stock_df, sum_btc_sent)\n",
    "jnj_input_df = merge_dfs(jnj_stock_df, sum_jnj_sent)\n",
    "msft_input_df = merge_dfs(msft_stock_df, sum_msft_sent)\n",
    "nflx_input_df = merge_dfs(nflx_stock_df, sum_nflx_sent)\n",
    "pfe_input_df = merge_dfs(pfe_stock_df, sum_pfe_sent)\n",
    "tsla_input_df = merge_dfs(tsla_stock_df, sum_tsla_sent)\n",
    "twr_input_df = merge_dfs(twr_stock_df, sum_twr_sent)"
   ]
  },
  {
   "cell_type": "code",
   "execution_count": 9,
   "metadata": {},
   "outputs": [],
   "source": [
    "create_csv(aapl_input_df, \"aapl_input.csv\")\n",
    "create_csv(btc_input_df, \"btc_input.csv\")\n",
    "create_csv(jnj_input_df, \"jnj_input.csv\") \n",
    "create_csv(msft_input_df, \"msft_input.csv\")\n",
    "create_csv(nflx_input_df, \"nflx_input.csv\")\n",
    "create_csv(pfe_input_df, \"pfe_input.csv\")\n",
    "create_csv(tsla_input_df, \"tsla_input.csv\")\n",
    "create_csv(twr_input_df, \"twr_input.csv\")"
   ]
  },
  {
   "cell_type": "code",
   "execution_count": null,
   "metadata": {},
   "outputs": [],
   "source": []
  }
 ],
 "metadata": {
  "kernelspec": {
   "display_name": "Python 3",
   "language": "python",
   "name": "python3"
  },
  "language_info": {
   "codemirror_mode": {
    "name": "ipython",
    "version": 3
   },
   "file_extension": ".py",
   "mimetype": "text/x-python",
   "name": "python",
   "nbconvert_exporter": "python",
   "pygments_lexer": "ipython3",
   "version": "3.7.3"
  }
 },
 "nbformat": 4,
 "nbformat_minor": 4
}

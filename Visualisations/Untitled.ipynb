{
 "cells": [
  {
   "cell_type": "code",
   "execution_count": 23,
   "metadata": {},
   "outputs": [],
   "source": [
    "import pandas as pd\n",
    "from path import Path\n",
    "from sklearn import metrics\n",
    "\n",
    "import pandas as pd\n",
    "import numpy as np\n",
    "import matplotlib.pyplot as plt\n",
    "\n",
    "%matplotlib inline"
   ]
  },
  {
   "cell_type": "code",
   "execution_count": 4,
   "metadata": {},
   "outputs": [],
   "source": [
    "def csv_to_df(input_csv):\n",
    "    file_path = Path(input_csv)\n",
    "    input_df = pd.read_csv(file_path)\n",
    "    \n",
    "    return input_df"
   ]
  },
  {
   "cell_type": "code",
   "execution_count": 18,
   "metadata": {},
   "outputs": [],
   "source": [
    "def add_pct_change(input_df):\n",
    "    #pct change based on close value\n",
    "    input_df[\"Pct_change\"] = input_df[\"Close\"].pct_change()\n",
    "    \n",
    "    #Drop null values \n",
    "    input_df.dropna(inplace=True)\n",
    "    input_df.head()"
   ]
  },
  {
   "cell_type": "code",
   "execution_count": 19,
   "metadata": {},
   "outputs": [],
   "source": [
    "aapl_input_df = csv_to_df(\"../input_data/aapl_input_csv\")"
   ]
  },
  {
   "cell_type": "code",
   "execution_count": 20,
   "metadata": {},
   "outputs": [],
   "source": [
    "add_pct_change(aapl_input_df)"
   ]
  },
  {
   "cell_type": "code",
   "execution_count": 21,
   "metadata": {},
   "outputs": [
    {
     "data": {
      "text/html": [
       "<div>\n",
       "<style scoped>\n",
       "    .dataframe tbody tr th:only-of-type {\n",
       "        vertical-align: middle;\n",
       "    }\n",
       "\n",
       "    .dataframe tbody tr th {\n",
       "        vertical-align: top;\n",
       "    }\n",
       "\n",
       "    .dataframe thead th {\n",
       "        text-align: right;\n",
       "    }\n",
       "</style>\n",
       "<table border=\"1\" class=\"dataframe\">\n",
       "  <thead>\n",
       "    <tr style=\"text-align: right;\">\n",
       "      <th></th>\n",
       "      <th>Open</th>\n",
       "      <th>High</th>\n",
       "      <th>Low</th>\n",
       "      <th>Close</th>\n",
       "      <th>Adj Close</th>\n",
       "      <th>Volume</th>\n",
       "      <th>compound</th>\n",
       "      <th>Pct_change</th>\n",
       "    </tr>\n",
       "  </thead>\n",
       "  <tbody>\n",
       "    <tr>\n",
       "      <th>1</th>\n",
       "      <td>62.242500</td>\n",
       "      <td>62.437500</td>\n",
       "      <td>60.642502</td>\n",
       "      <td>60.822498</td>\n",
       "      <td>59.506626</td>\n",
       "      <td>142839600.0</td>\n",
       "      <td>0.230024</td>\n",
       "      <td>-0.023128</td>\n",
       "    </tr>\n",
       "    <tr>\n",
       "      <th>2</th>\n",
       "      <td>61.189999</td>\n",
       "      <td>61.325001</td>\n",
       "      <td>60.302502</td>\n",
       "      <td>60.814999</td>\n",
       "      <td>59.499287</td>\n",
       "      <td>124522000.0</td>\n",
       "      <td>0.199119</td>\n",
       "      <td>-0.000123</td>\n",
       "    </tr>\n",
       "    <tr>\n",
       "      <th>3</th>\n",
       "      <td>61.810001</td>\n",
       "      <td>62.292500</td>\n",
       "      <td>59.314999</td>\n",
       "      <td>62.189999</td>\n",
       "      <td>60.844540</td>\n",
       "      <td>139162000.0</td>\n",
       "      <td>0.136767</td>\n",
       "      <td>0.022610</td>\n",
       "    </tr>\n",
       "    <tr>\n",
       "      <th>4</th>\n",
       "      <td>62.384998</td>\n",
       "      <td>63.982498</td>\n",
       "      <td>62.290001</td>\n",
       "      <td>63.955002</td>\n",
       "      <td>62.571358</td>\n",
       "      <td>151125200.0</td>\n",
       "      <td>0.152243</td>\n",
       "      <td>0.028381</td>\n",
       "    </tr>\n",
       "    <tr>\n",
       "      <th>5</th>\n",
       "      <td>64.332497</td>\n",
       "      <td>64.462502</td>\n",
       "      <td>63.845001</td>\n",
       "      <td>64.375000</td>\n",
       "      <td>62.982265</td>\n",
       "      <td>103272000.0</td>\n",
       "      <td>0.158832</td>\n",
       "      <td>0.006567</td>\n",
       "    </tr>\n",
       "  </tbody>\n",
       "</table>\n",
       "</div>"
      ],
      "text/plain": [
       "        Open       High        Low      Close  Adj Close       Volume  \\\n",
       "1  62.242500  62.437500  60.642502  60.822498  59.506626  142839600.0   \n",
       "2  61.189999  61.325001  60.302502  60.814999  59.499287  124522000.0   \n",
       "3  61.810001  62.292500  59.314999  62.189999  60.844540  139162000.0   \n",
       "4  62.384998  63.982498  62.290001  63.955002  62.571358  151125200.0   \n",
       "5  64.332497  64.462502  63.845001  64.375000  62.982265  103272000.0   \n",
       "\n",
       "   compound  Pct_change  \n",
       "1  0.230024   -0.023128  \n",
       "2  0.199119   -0.000123  \n",
       "3  0.136767    0.022610  \n",
       "4  0.152243    0.028381  \n",
       "5  0.158832    0.006567  "
      ]
     },
     "execution_count": 21,
     "metadata": {},
     "output_type": "execute_result"
    }
   ],
   "source": [
    "aapl_input_df.head()"
   ]
  },
  {
   "cell_type": "code",
   "execution_count": null,
   "metadata": {},
   "outputs": [],
   "source": []
  }
 ],
 "metadata": {
  "kernelspec": {
   "display_name": "Python 3",
   "language": "python",
   "name": "python3"
  },
  "language_info": {
   "codemirror_mode": {
    "name": "ipython",
    "version": 3
   },
   "file_extension": ".py",
   "mimetype": "text/x-python",
   "name": "python",
   "nbconvert_exporter": "python",
   "pygments_lexer": "ipython3",
   "version": "3.7.3"
  }
 },
 "nbformat": 4,
 "nbformat_minor": 4
}

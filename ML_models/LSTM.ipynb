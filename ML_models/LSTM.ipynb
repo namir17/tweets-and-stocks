{
 "cells": [
  {
   "cell_type": "code",
   "execution_count": 1,
   "metadata": {},
   "outputs": [],
   "source": [
    "import numpy as np \n",
    "import pandas as pd\n",
    "from path import Path\n",
    "from sklearn import metrics"
   ]
  },
  {
   "cell_type": "code",
   "execution_count": 2,
   "metadata": {},
   "outputs": [
    {
     "name": "stderr",
     "output_type": "stream",
     "text": [
      "/Users/namirsacic/anaconda3/lib/python3.7/site-packages/tensorflow/python/framework/dtypes.py:526: FutureWarning: Passing (type, 1) or '1type' as a synonym of type is deprecated; in a future version of numpy, it will be understood as (type, (1,)) / '(1,)type'.\n",
      "  _np_qint8 = np.dtype([(\"qint8\", np.int8, 1)])\n",
      "/Users/namirsacic/anaconda3/lib/python3.7/site-packages/tensorflow/python/framework/dtypes.py:527: FutureWarning: Passing (type, 1) or '1type' as a synonym of type is deprecated; in a future version of numpy, it will be understood as (type, (1,)) / '(1,)type'.\n",
      "  _np_quint8 = np.dtype([(\"quint8\", np.uint8, 1)])\n",
      "/Users/namirsacic/anaconda3/lib/python3.7/site-packages/tensorflow/python/framework/dtypes.py:528: FutureWarning: Passing (type, 1) or '1type' as a synonym of type is deprecated; in a future version of numpy, it will be understood as (type, (1,)) / '(1,)type'.\n",
      "  _np_qint16 = np.dtype([(\"qint16\", np.int16, 1)])\n",
      "/Users/namirsacic/anaconda3/lib/python3.7/site-packages/tensorflow/python/framework/dtypes.py:529: FutureWarning: Passing (type, 1) or '1type' as a synonym of type is deprecated; in a future version of numpy, it will be understood as (type, (1,)) / '(1,)type'.\n",
      "  _np_quint16 = np.dtype([(\"quint16\", np.uint16, 1)])\n",
      "/Users/namirsacic/anaconda3/lib/python3.7/site-packages/tensorflow/python/framework/dtypes.py:530: FutureWarning: Passing (type, 1) or '1type' as a synonym of type is deprecated; in a future version of numpy, it will be understood as (type, (1,)) / '(1,)type'.\n",
      "  _np_qint32 = np.dtype([(\"qint32\", np.int32, 1)])\n",
      "/Users/namirsacic/anaconda3/lib/python3.7/site-packages/tensorflow/python/framework/dtypes.py:535: FutureWarning: Passing (type, 1) or '1type' as a synonym of type is deprecated; in a future version of numpy, it will be understood as (type, (1,)) / '(1,)type'.\n",
      "  np_resource = np.dtype([(\"resource\", np.ubyte, 1)])\n",
      "/Users/namirsacic/anaconda3/lib/python3.7/importlib/_bootstrap.py:219: RuntimeWarning: compiletime version 3.6 of module 'tensorflow.python.framework.fast_tensor_util' does not match runtime version 3.7\n",
      "  return f(*args, **kwds)\n"
     ]
    }
   ],
   "source": [
    "#Set the random seed for reproducibility\n",
    "from numpy.random import seed\n",
    "\n",
    "seed(1)\n",
    "from tensorflow import random\n",
    "\n",
    "random.set_random_seed(2)"
   ]
  },
  {
   "cell_type": "code",
   "execution_count": 3,
   "metadata": {},
   "outputs": [
    {
     "data": {
      "text/html": [
       "<div>\n",
       "<style scoped>\n",
       "    .dataframe tbody tr th:only-of-type {\n",
       "        vertical-align: middle;\n",
       "    }\n",
       "\n",
       "    .dataframe tbody tr th {\n",
       "        vertical-align: top;\n",
       "    }\n",
       "\n",
       "    .dataframe thead th {\n",
       "        text-align: right;\n",
       "    }\n",
       "</style>\n",
       "<table border=\"1\" class=\"dataframe\">\n",
       "  <thead>\n",
       "    <tr style=\"text-align: right;\">\n",
       "      <th></th>\n",
       "      <th>Date</th>\n",
       "      <th>Open</th>\n",
       "      <th>High</th>\n",
       "      <th>Low</th>\n",
       "      <th>Close</th>\n",
       "      <th>Adj Close</th>\n",
       "      <th>Volume</th>\n",
       "      <th>ts_polarity</th>\n",
       "      <th>twitter_volume</th>\n",
       "    </tr>\n",
       "  </thead>\n",
       "  <tbody>\n",
       "    <tr>\n",
       "      <th>917</th>\n",
       "      <td>2019-08-26</td>\n",
       "      <td>51.47</td>\n",
       "      <td>51.80</td>\n",
       "      <td>51.26</td>\n",
       "      <td>51.62</td>\n",
       "      <td>51.12</td>\n",
       "      <td>104174400</td>\n",
       "      <td>0.072340</td>\n",
       "      <td>888.0</td>\n",
       "    </tr>\n",
       "    <tr>\n",
       "      <th>918</th>\n",
       "      <td>2019-08-27</td>\n",
       "      <td>51.97</td>\n",
       "      <td>52.14</td>\n",
       "      <td>50.88</td>\n",
       "      <td>51.04</td>\n",
       "      <td>50.54</td>\n",
       "      <td>103493200</td>\n",
       "      <td>0.117541</td>\n",
       "      <td>962.0</td>\n",
       "    </tr>\n",
       "    <tr>\n",
       "      <th>919</th>\n",
       "      <td>2019-08-28</td>\n",
       "      <td>51.03</td>\n",
       "      <td>51.43</td>\n",
       "      <td>50.83</td>\n",
       "      <td>51.38</td>\n",
       "      <td>50.88</td>\n",
       "      <td>63755200</td>\n",
       "      <td>0.061477</td>\n",
       "      <td>895.0</td>\n",
       "    </tr>\n",
       "    <tr>\n",
       "      <th>920</th>\n",
       "      <td>2019-08-29</td>\n",
       "      <td>52.13</td>\n",
       "      <td>52.33</td>\n",
       "      <td>51.67</td>\n",
       "      <td>52.25</td>\n",
       "      <td>51.74</td>\n",
       "      <td>83962000</td>\n",
       "      <td>0.056460</td>\n",
       "      <td>1083.0</td>\n",
       "    </tr>\n",
       "    <tr>\n",
       "      <th>921</th>\n",
       "      <td>2019-08-30</td>\n",
       "      <td>52.54</td>\n",
       "      <td>52.61</td>\n",
       "      <td>51.80</td>\n",
       "      <td>52.19</td>\n",
       "      <td>51.67</td>\n",
       "      <td>84573600</td>\n",
       "      <td>0.106096</td>\n",
       "      <td>1005.0</td>\n",
       "    </tr>\n",
       "  </tbody>\n",
       "</table>\n",
       "</div>"
      ],
      "text/plain": [
       "           Date   Open   High    Low  Close  Adj Close     Volume  \\\n",
       "917  2019-08-26  51.47  51.80  51.26  51.62      51.12  104174400   \n",
       "918  2019-08-27  51.97  52.14  50.88  51.04      50.54  103493200   \n",
       "919  2019-08-28  51.03  51.43  50.83  51.38      50.88   63755200   \n",
       "920  2019-08-29  52.13  52.33  51.67  52.25      51.74   83962000   \n",
       "921  2019-08-30  52.54  52.61  51.80  52.19      51.67   84573600   \n",
       "\n",
       "     ts_polarity  twitter_volume  \n",
       "917     0.072340           888.0  \n",
       "918     0.117541           962.0  \n",
       "919     0.061477           895.0  \n",
       "920     0.056460          1083.0  \n",
       "921     0.106096          1005.0  "
      ]
     },
     "execution_count": 3,
     "metadata": {},
     "output_type": "execute_result"
    }
   ],
   "source": [
    "def choose_csv(csv_name):\n",
    "    #Read TSLA.csv contains open, high, low, close, Adj close, Volume of Apple stock with twitter polarity scores and twitter volumes\n",
    "    file_path = Path(csv_name)\n",
    "    df = pd.read_csv(file_path)\n",
    "    #Drop null values\n",
    "    df.dropna(inplace=True)\n",
    "    \n",
    "    return df"
   ]
  },
  {
   "cell_type": "code",
   "execution_count": 4,
   "metadata": {},
   "outputs": [
    {
     "data": {
      "text/html": [
       "<div>\n",
       "<style scoped>\n",
       "    .dataframe tbody tr th:only-of-type {\n",
       "        vertical-align: middle;\n",
       "    }\n",
       "\n",
       "    .dataframe tbody tr th {\n",
       "        vertical-align: top;\n",
       "    }\n",
       "\n",
       "    .dataframe thead th {\n",
       "        text-align: right;\n",
       "    }\n",
       "</style>\n",
       "<table border=\"1\" class=\"dataframe\">\n",
       "  <thead>\n",
       "    <tr style=\"text-align: right;\">\n",
       "      <th></th>\n",
       "      <th>Adj Close</th>\n",
       "      <th>ts_polarity</th>\n",
       "      <th>twitter_volume</th>\n",
       "    </tr>\n",
       "  </thead>\n",
       "  <tbody>\n",
       "    <tr>\n",
       "      <th>0</th>\n",
       "      <td>24.44</td>\n",
       "      <td>0.070389</td>\n",
       "      <td>1133.0</td>\n",
       "    </tr>\n",
       "    <tr>\n",
       "      <th>1</th>\n",
       "      <td>23.83</td>\n",
       "      <td>0.133635</td>\n",
       "      <td>1430.0</td>\n",
       "    </tr>\n",
       "    <tr>\n",
       "      <th>2</th>\n",
       "      <td>23.36</td>\n",
       "      <td>0.072042</td>\n",
       "      <td>1949.0</td>\n",
       "    </tr>\n",
       "    <tr>\n",
       "      <th>3</th>\n",
       "      <td>22.38</td>\n",
       "      <td>0.074369</td>\n",
       "      <td>2289.0</td>\n",
       "    </tr>\n",
       "    <tr>\n",
       "      <th>4</th>\n",
       "      <td>22.50</td>\n",
       "      <td>0.051595</td>\n",
       "      <td>2235.0</td>\n",
       "    </tr>\n",
       "  </tbody>\n",
       "</table>\n",
       "</div>"
      ],
      "text/plain": [
       "   Adj Close  ts_polarity  twitter_volume\n",
       "0      24.44     0.070389          1133.0\n",
       "1      23.83     0.133635          1430.0\n",
       "2      23.36     0.072042          1949.0\n",
       "3      22.38     0.074369          2289.0\n",
       "4      22.50     0.051595          2235.0"
      ]
     },
     "execution_count": 4,
     "metadata": {},
     "output_type": "execute_result"
    }
   ],
   "source": [
    "def adjusted_df(df):\n",
    "    #Dataframe with Adj close, ts_polarity, twitter_volume\n",
    "    df = df[[\"Close\", \"compound\"]]\n",
    "    \n",
    "    #pct change based on Adj close value\n",
    "    df[\"Pct_change\"] = df[\"Close\"].pct_change()\n",
    "\n",
    "    #Drop null values \n",
    "    df.dropna(inplace=True)\n",
    "    df.head()\n",
    "    \n",
    "    return df"
   ]
  },
  {
   "cell_type": "markdown",
   "metadata": {},
   "source": [
    "Creating the Features X and Target y Data\n",
    "The first step towards preparing the data was to create the input features X and the target vector y. We used the window_data() function to create these vectors.\n",
    "\n",
    "This function chunks the data up with a rolling window of Xt - window to predict Xt.\n",
    "\n",
    "The function returns two numpy arrays:\n",
    "\n",
    "X: The input features vectors.\n",
    "\n",
    "y: The target vector.\n",
    "\n",
    "The function has the following parameters:\n",
    "\n",
    "df: The original DataFrame with the time series data.\n",
    "\n",
    "window: The window size in days of previous closing prices that will be used for the prediction.\n",
    "\n",
    "feature_col_number: The column number from the original DataFrame where the features are located.\n",
    "\n",
    "target_col_number: The column number from the original DataFrame where the target is located."
   ]
  },
  {
   "cell_type": "code",
   "execution_count": 6,
   "metadata": {},
   "outputs": [],
   "source": [
    "#Creation of vectors X and Y \n",
    "#X = input features / Y = target vector\n",
    "\n",
    "def window_data(df, window, feature_col_number1, feature_col_number2, feature_col_number3, target_col_number):\n",
    "    #Create empty lists \"X_close\", \"X_polarity\",  \"X_volume\" and y\n",
    "    X_close = []\n",
    "    X_polarity = []\n",
    "    X_volume = []\n",
    "    y = []\n",
    "    \n",
    "    for i in range(len(df) - window):\n",
    "        \n",
    "        #Get close, ts_polarity, tw_vol and target in the loop\n",
    "        close = df.iloc[i:(i + window), feature_col_number1]\n",
    "        ts_polarity = df.iloc[i:(i + window), feature_col_number2]\n",
    "        tw_vol = df.iloc[i:(i + window), feature_col_number3]\n",
    "        target = df.iloc[(i + window), target_col_number]\n",
    "        \n",
    "        #Append values in the lists\n",
    "        X_close.append(close)\n",
    "        X_polarity.append(ts_polarity)\n",
    "        X_volume.append(tw_vol)\n",
    "        y.append(target)\n",
    "        \n",
    "    return np.hstack((X_close, X_polarity, X_volume)), np.array(y).reshape(-1, 1)"
   ]
  },
  {
   "cell_type": "code",
   "execution_count": 7,
   "metadata": {},
   "outputs": [],
   "source": [
    "#Predict closing prices using a 3 day window of previous closing prices\n",
    "window_size1 = 1\n",
    "window_size3 = 3 \n",
    "window_size5 = 5\n",
    "\n",
    "#Column index 0 is the \"Close\" column\n",
    "#Column index 1 is the \"ts_polarity\"\n",
    "#Column index 2 is the \"twitter_volume\" column\n",
    "feature_col_number1 = 0\n",
    "feature_col_number2 = 1\n",
    "feature_col_number3 = 2\n",
    "target_col_number = 0 \n",
    "X, y = window_data(df, window_size, feature_col_number1, feature_col_number2, feature_col_number3, target_col_number)\n",
    "\n",
    "#Predict closing prices using a 1 day window of previous closing prices\n",
    "#Predict closing prices using a 5 day window of previous closing prices"
   ]
  },
  {
   "cell_type": "code",
   "execution_count": 5,
   "metadata": {},
   "outputs": [],
   "source": [
    "def split_data(X, y):\n",
    "    #Use 70% of the data for training and 30% for testing\n",
    "    X_split = int(0.7 * len(X))\n",
    "    y_split = int(0.7 * len(y))\n",
    "\n",
    "    #Set X_train, X_test, y_train, t_test\n",
    "    X_train = X[:X_split]\n",
    "    X_test = X[X_split:]\n",
    "    y_train = y[:y_split]\n",
    "    y_test = y[y_split:]\n",
    "    \n",
    "    return X_train, X_test, y_train, y_test"
   ]
  },
  {
   "cell_type": "markdown",
   "metadata": {},
   "source": [
    "Scaling Data with MinMaxScaler\n",
    "\n",
    "We will use the MinMaxScaler from sklearn to scale all values between 0 and 1. Note that we scale both features and target sets."
   ]
  },
  {
   "cell_type": "code",
   "execution_count": 9,
   "metadata": {},
   "outputs": [],
   "source": [
    "from sklearn.preprocessing import MinMaxScaler"
   ]
  },
  {
   "cell_type": "code",
   "execution_count": 10,
   "metadata": {},
   "outputs": [],
   "source": [
    "def scale_data(X_train, y_train, X_test, y_test):\n",
    "    #Use MinMaxScaler to scale data between 0 and 1\n",
    "    x_train_scaler = MinMaxScaler()\n",
    "    x_test_scaler = MinMaxScaler()\n",
    "    y_train_scaler = MinMaxScaler()\n",
    "    y_test_scaler = MinMaxScaler()\n",
    "\n",
    "    #Fit the scaler for the Training data\n",
    "    x_train_scaler.fit(X_train)\n",
    "    y_train_scaler.fit(y_train)\n",
    "\n",
    "    #Scale the training data\n",
    "    X_train = x_train_scaler.transform(X_train)\n",
    "    y_train = y_train_scaler.transform(y_train)\n",
    "\n",
    "    #Fit the scaler for the Test data \n",
    "    x_test_scaler.fit(X_test)\n",
    "    y_test_scaler.fit(y_test)\n",
    "\n",
    "    #Scale the test data\n",
    "    X_test = x_test_scaler.transform(X_test)\n",
    "    y_test = y_test_scaler.transform(y_test)\n",
    "    \n",
    "    return X_train, y_train, X_test, y_test"
   ]
  },
  {
   "cell_type": "markdown",
   "metadata": {},
   "source": [
    "Reshape Features Data for the LSTM Model\n",
    "\n",
    "The LSTM API from Keras needs to receive the features data as a vertical vector, so that we need to reshape the X data in the form reshape((X_train.shape[0], X_train.shape[1], 1)).\n",
    "\n",
    "Both sets, training, and testing are reshaped."
   ]
  },
  {
   "cell_type": "code",
   "execution_count": 4,
   "metadata": {},
   "outputs": [],
   "source": [
    "def reshape_features(X_train, X_test):\n",
    "    #Reshape the features for the model\n",
    "    X_train = X_train.reshape((X_train.shape[0], X_train.shape[1], 1))\n",
    "    X_test = X_test.reshape((X_test.shape[0], X_test.shape[1], 1))\n",
    "    \n",
    "    return X_train, X_test"
   ]
  },
  {
   "cell_type": "markdown",
   "metadata": {},
   "source": [
    "Build and Train the LSTM RNN\n",
    "\n",
    "In this section, we designed a custom LSTM RNN and fit (train) it using the training data.\n",
    "\n",
    "We have:\n",
    "\n",
    "Defined the model architecture\n",
    "\n",
    "Compiled the model\n",
    "\n",
    "Fit the model to the training data\n",
    "\n",
    "Importing the Keras Modules\n",
    "\n",
    "The LSTM RNN model in Keras uses the Sequential model, the LSTM layer and a Dropout layer.\n",
    "\n",
    "Dropout: Dropout is a regularization technique for reducing overfitting in neural networks. This type of layer applies the dropout technique to the input."
   ]
  },
  {
   "cell_type": "markdown",
   "metadata": {},
   "source": [
    "from tensorflow.keras.models import Sequential\n",
    "from tensorflow.keras.layers import LSTM, Dense, Dropout"
   ]
  },
  {
   "cell_type": "markdown",
   "metadata": {},
   "source": [
    "Defining the LSTM RNN Model Structure\n",
    "\n",
    "To create an LSTM RNN model, we added LSTM layers. The return_sequences parameter needs to set to True every time we add a new LSTM layer, excluding the final layer. The input_shape is the number of time steps and the number of indicators\n",
    "\n",
    "After each LSTM layer, we add a Dropout layer to prevent overfitting. The parameter passed to the Dropout layer is the fraction of nodes that will be drop on each epoch, for this demo, we will use a dropout value of 0.2, it means that on each epoch we will randomly drop 20% of the units.\n",
    "\n",
    "The number of units in each LSTM layers, is equal to three times the size of the time window, we are taking three previous closing prices to predict the next closing price."
   ]
  },
  {
   "cell_type": "code",
   "execution_count": 13,
   "metadata": {},
   "outputs": [
    {
     "name": "stdout",
     "output_type": "stream",
     "text": [
      "WARNING:tensorflow:From /Users/namirsacic/anaconda3/lib/python3.7/site-packages/tensorflow/python/ops/resource_variable_ops.py:435: colocate_with (from tensorflow.python.framework.ops) is deprecated and will be removed in a future version.\n",
      "Instructions for updating:\n",
      "Colocations handled automatically by placer.\n",
      "WARNING:tensorflow:From /Users/namirsacic/anaconda3/lib/python3.7/site-packages/tensorflow/python/keras/layers/core.py:143: calling dropout (from tensorflow.python.ops.nn_ops) with keep_prob is deprecated and will be removed in a future version.\n",
      "Instructions for updating:\n",
      "Please use `rate` instead of `keep_prob`. Rate should be set to `rate = 1 - keep_prob`.\n"
     ]
    }
   ],
   "source": [
    "#Build the LSTM model\n",
    "\n",
    "def define_model(X_train):\n",
    "    #Define the LSTM RNN model\n",
    "    model = Sequential()\n",
    "\n",
    "    number_units = 9\n",
    "    dropout_fraction = 0.2\n",
    "\n",
    "    #Layer 1\n",
    "    model.add(LSTM(\n",
    "        units=number_units,\n",
    "        return_sequences=True,\n",
    "        input_shape=(X_train.shape[1], 1))\n",
    "        )\n",
    "\n",
    "    model.add(Dropout(dropout_fraction))\n",
    "\n",
    "    #Layer 2\n",
    "    #The return_sequences parameter needs to set to True every time we add a new LSTM layer, excluding the final layer\n",
    "    model.add(LSTM(\n",
    "        units=number_units, \n",
    "        return_sequences=True))\n",
    "    model.add(Dropout(dropout_fraction))\n",
    "\n",
    "    #Layer 3 \n",
    "    model.add(LSTM(units=number_units))\n",
    "    model.add(Dropout(dropout_fraction))\n",
    "\n",
    "    #Output layer\n",
    "    model.add(Dense(1))"
   ]
  },
  {
   "cell_type": "markdown",
   "metadata": {},
   "source": [
    "Compiling the LSTM RNN Model\n",
    "\n",
    "We have compiled the model, using the adam optimizer, as loss function, we will use mean_square_error since the value we want to predict is continuous."
   ]
  },
  {
   "cell_type": "code",
   "execution_count": null,
   "metadata": {},
   "outputs": [],
   "source": [
    "#Compile the model\n",
    "def compile_model(model):\n",
    "    model.compile(optimizer=\"adam\", loss=\"mean_squared_error\")\n",
    "    #Summarize model\n",
    "    model.summary()\n",
    "    \n",
    "    return model"
   ]
  },
  {
   "cell_type": "markdown",
   "metadata": {},
   "source": [
    "Training the Model\n",
    "\n",
    "Once the model is defined, we train (fit) the model using 10 epochs. Since we are working with time-series data, it's important to set shuffle=False since it's necessary to keep the sequential order of the data.\n",
    "\n",
    "We can experiment with the batch_size parameter; however, smaller batch size is recommended; we used batch_size=5."
   ]
  },
  {
   "cell_type": "code",
   "execution_count": 16,
   "metadata": {},
   "outputs": [
    {
     "name": "stdout",
     "output_type": "stream",
     "text": [
      "WARNING:tensorflow:From /Users/namirsacic/anaconda3/lib/python3.7/site-packages/tensorflow/python/ops/math_ops.py:3066: to_int32 (from tensorflow.python.ops.math_ops) is deprecated and will be removed in a future version.\n",
      "Instructions for updating:\n",
      "Use tf.cast instead.\n",
      "Epoch 1/10\n",
      "642/642 [==============================] - 4s 6ms/sample - loss: 0.0142\n",
      "Epoch 2/10\n",
      "642/642 [==============================] - 2s 3ms/sample - loss: 0.0480\n",
      "Epoch 3/10\n",
      "642/642 [==============================] - 2s 3ms/sample - loss: 0.0428\n",
      "Epoch 4/10\n",
      "642/642 [==============================] - 2s 4ms/sample - loss: 0.0270\n",
      "Epoch 5/10\n",
      "642/642 [==============================] - 2s 3ms/sample - loss: 0.0194\n",
      "Epoch 6/10\n",
      "642/642 [==============================] - 2s 3ms/sample - loss: 0.0155\n",
      "Epoch 7/10\n",
      "642/642 [==============================] - 2s 3ms/sample - loss: 0.0113\n",
      "Epoch 8/10\n",
      "642/642 [==============================] - 2s 3ms/sample - loss: 0.0117\n",
      "Epoch 9/10\n",
      "642/642 [==============================] - 2s 3ms/sample - loss: 0.0111\n",
      "Epoch 10/10\n",
      "642/642 [==============================] - 2s 3ms/sample - loss: 0.0083\n"
     ]
    },
    {
     "data": {
      "text/plain": [
       "<tensorflow.python.keras.callbacks.History at 0x7fd2d163ed30>"
      ]
     },
     "execution_count": 16,
     "metadata": {},
     "output_type": "execute_result"
    }
   ],
   "source": [
    "def train_model(X_train, y_train):\n",
    "    #Train the model\n",
    "    model.fit(X_train, y_train, epochs=10, shuffle=False, batch_size=5, verbose=1)\n",
    "    \n",
    "    return model"
   ]
  },
  {
   "cell_type": "markdown",
   "metadata": {},
   "source": [
    "Model Performance\n",
    "\n",
    "In this section, we will evaluate the model using the test data.\n",
    "\n",
    "We will:\n",
    "\n",
    "1. Evaluate the model using the X_test and y_test data.\n",
    "2. Use the X_test data to make predictions\n",
    "3. Create a DataFrame of Real (y_test) vs predicted values.\n",
    "4. Plot the Real vs predicted values as a line chart"
   ]
  },
  {
   "cell_type": "code",
   "execution_count": 17,
   "metadata": {},
   "outputs": [
    {
     "name": "stdout",
     "output_type": "stream",
     "text": [
      "276/276 [==============================] - 0s 1ms/sample - loss: 0.0136\n"
     ]
    },
    {
     "data": {
      "text/plain": [
       "0.013580113190455713"
      ]
     },
     "execution_count": 17,
     "metadata": {},
     "output_type": "execute_result"
    }
   ],
   "source": [
    "def evaluate_model(X_test, y_test): \n",
    "    #Evaluation of model\n",
    "    model.evaluate(X_test, y_test\n",
    "    \n",
    "    return model"
   ]
  },
  {
   "cell_type": "code",
   "execution_count": 18,
   "metadata": {},
   "outputs": [],
   "source": [
    "def make_pred(X_test):\n",
    "    #Make predictions\n",
    "    predicted = model.predict(X_test)\n",
    "    \n",
    "    return predicted"
   ]
  },
  {
   "cell_type": "code",
   "execution_count": 19,
   "metadata": {},
   "outputs": [
    {
     "name": "stdout",
     "output_type": "stream",
     "text": [
      "Root Mean Squared Error:  0.11653374302623919\n",
      "R-squared:  0.7558099227306101\n"
     ]
    }
   ],
   "source": [
    "def calc_evaluation(y_test, predicted):\n",
    "    #Evaluation of model\n",
    "    print(\"Root Mean Squared Error: \", np.sqrt(metrics.mean_squared_error(y_test, predicted)))\n",
    "    print(\"R-squared: \", metrics.r2_score(y_test, predicted))\n",
    "    \n",
    "    return root_mean_squared_error, r_squared"
   ]
  },
  {
   "cell_type": "code",
   "execution_count": 21,
   "metadata": {},
   "outputs": [
    {
     "data": {
      "text/html": [
       "<div>\n",
       "<style scoped>\n",
       "    .dataframe tbody tr th:only-of-type {\n",
       "        vertical-align: middle;\n",
       "    }\n",
       "\n",
       "    .dataframe tbody tr th {\n",
       "        vertical-align: top;\n",
       "    }\n",
       "\n",
       "    .dataframe thead th {\n",
       "        text-align: right;\n",
       "    }\n",
       "</style>\n",
       "<table border=\"1\" class=\"dataframe\">\n",
       "  <thead>\n",
       "    <tr style=\"text-align: right;\">\n",
       "      <th></th>\n",
       "      <th>Real</th>\n",
       "      <th>Predicted</th>\n",
       "    </tr>\n",
       "  </thead>\n",
       "  <tbody>\n",
       "    <tr>\n",
       "      <th>646</th>\n",
       "      <td>46.39</td>\n",
       "      <td>50.760738</td>\n",
       "    </tr>\n",
       "    <tr>\n",
       "      <th>647</th>\n",
       "      <td>46.13</td>\n",
       "      <td>49.455578</td>\n",
       "    </tr>\n",
       "    <tr>\n",
       "      <th>648</th>\n",
       "      <td>46.22</td>\n",
       "      <td>50.114105</td>\n",
       "    </tr>\n",
       "    <tr>\n",
       "      <th>649</th>\n",
       "      <td>48.95</td>\n",
       "      <td>49.176933</td>\n",
       "    </tr>\n",
       "    <tr>\n",
       "      <th>650</th>\n",
       "      <td>50.38</td>\n",
       "      <td>49.984783</td>\n",
       "    </tr>\n",
       "  </tbody>\n",
       "</table>\n",
       "</div>"
      ],
      "text/plain": [
       "      Real  Predicted\n",
       "646  46.39  50.760738\n",
       "647  46.13  49.455578\n",
       "648  46.22  50.114105\n",
       "649  48.95  49.176933\n",
       "650  50.38  49.984783"
      ]
     },
     "execution_count": 21,
     "metadata": {},
     "output_type": "execute_result"
    }
   ],
   "source": [
    "def show_pred(y_test_scaler)\n",
    "    predicted_prices = y_test_scaler.inverse_transform(predicted)\n",
    "    real_prices = y_test_scaler.inverse_transform(y_test.reshape(-1, 1))\n",
    "\n",
    "    stocks = pd.DataFrame({\n",
    "        \"Real\": real_prices.ravel(),\n",
    "        \"Predicted\": predicted_prices.ravel()\n",
    "    }, index = df.index[-len(real_prices): ])\n",
    "    stocks.head()\n",
    "    \n",
    "    return stocks"
   ]
  },
  {
   "cell_type": "code",
   "execution_count": 22,
   "metadata": {},
   "outputs": [
    {
     "data": {
      "image/png": "[encoded data removed]",
      "text/plain": [
       "<Figure size 432x288 with 1 Axes>"
      ]
     },
     "metadata": {
      "needs_background": "light"
     },
     "output_type": "display_data"
    }
   ],
   "source": [
    "def plot_prediction(latest_df):\n",
    "    #Plot the real vs predicted values as a line chart\n",
    "    import matplotlib.pyplot as plt\n",
    "    import pandas as pd\n",
    "\n",
    "    # gca stands for 'get current axis'\n",
    "    ax = plt.gca()\n",
    "\n",
    "    stocks.plot(kind='line',y='Real',ax=ax)\n",
    "    stocks.plot(kind='line',y='Predicted', color='red', ax=ax)\n",
    "\n",
    "    plt.show()"
   ]
  },
  {
   "cell_type": "code",
   "execution_count": null,
   "metadata": {},
   "outputs": [],
   "source": []
  }
 ],
 "metadata": {
  "kernelspec": {
   "display_name": "Python 3",
   "language": "python",
   "name": "python3"
  },
  "language_info": {
   "codemirror_mode": {
    "name": "ipython",
    "version": 3
   },
   "file_extension": ".py",
   "mimetype": "text/x-python",
   "name": "python",
   "nbconvert_exporter": "python",
   "pygments_lexer": "ipython3",
   "version": "3.7.3"
  }
 },
 "nbformat": 4,
 "nbformat_minor": 4
}

{
 "cells": [
  {
   "cell_type": "code",
   "execution_count": 1,
   "metadata": {},
   "outputs": [],
   "source": [
    "import numpy as np\n",
    "import pandas as pd\n",
    "from path import Path\n",
    "from xgboost import XGBRegressor\n",
    "%matplotlib inline\n",
    "from sklearn import metrics"
   ]
  },
  {
   "cell_type": "code",
   "execution_count": 2,
   "metadata": {},
   "outputs": [],
   "source": [
    "def read_csv(csv_name):\n",
    "    #Read TSLA.csv contains open, high, low, close, Adj close, Volume of Apple stock with twitter polarity scores and twitter volumes\n",
    "    file_path = Path(csv_name)\n",
    "    df = pd.read_csv(file_path)\n",
    "    #Drop null values\n",
    "    df.dropna(inplace=True)\n",
    "    \n",
    "    return df"
   ]
  },
  {
   "cell_type": "code",
   "execution_count": 3,
   "metadata": {},
   "outputs": [],
   "source": [
    "def adjusted_df(df):\n",
    "    #Dataframe with Adj close, ts_polarity, twitter_volume\n",
    "    df = df[[\"Close\", \"compound\", \"Count\"]]\n",
    "    \n",
    "    #pct change based on Adj close value\n",
    "    df[\"Pct_change\"] = df[\"Close\"].pct_change()\n",
    "\n",
    "    #Drop null values \n",
    "    df.dropna(inplace=True)\n",
    "    df.head()\n",
    "    \n",
    "    return df"
   ]
  },
  {
   "cell_type": "markdown",
   "metadata": {},
   "source": [
    "Creating the Features X and Target y Data\n",
    "\n",
    "The first step towards preparing the data was to create the input features X and the target vector y. We used the window_data() function to create these vectors.\n",
    "\n",
    "This function chunks the data up with a rolling window of Xt - window to predict Xt.\n",
    "\n",
    "The function returns two numpy arrays:\n",
    "\n",
    "X: The input features vectors.\n",
    "\n",
    "y: The target vector.\n",
    "\n",
    "The function has the following parameters:\n",
    "\n",
    "df: The original DataFrame with the time series data.\n",
    "\n",
    "window: The window size in days of previous closing prices that will be used for the prediction.\n",
    "\n",
    "feature_col_number: The column number from the original DataFrame where the features are located.\n",
    "\n",
    "target_col_number: The column number from the original DataFrame where the target is located."
   ]
  },
  {
   "cell_type": "code",
   "execution_count": 4,
   "metadata": {},
   "outputs": [],
   "source": [
    "#Creation of vectors X and Y \n",
    "#X = input features / Y = target vector\n",
    "\n",
    "def window_data(df, window, feature_col_number1, feature_col_number2, feature_col_number3, target_col_number):\n",
    "    #Create empty lists \"X_close\", \"X_polarity\",  \"X_volume\" and y\n",
    "    X_close = []\n",
    "    X_polarity = []\n",
    "    X_volume = []\n",
    "    y = []\n",
    "    \n",
    "    for i in range(len(df) - window):\n",
    "        \n",
    "        #Get close, ts_polarity, tw_vol and target in the loop\n",
    "        close = df.iloc[i:(i + window), feature_col_number1]\n",
    "        compound = df.iloc[i:(i + window), feature_col_number2]\n",
    "        count = df.iloc[i:(i + window), feature_col_number3]\n",
    "        target = df.iloc[(i + window), target_col_number]\n",
    "        \n",
    "        #Append values in the lists\n",
    "        X_close.append(close)\n",
    "        X_polarity.append(compound)\n",
    "        X_volume.append(count)\n",
    "        y.append(target)\n",
    "        \n",
    "    return np.hstack((X_close, X_polarity, X_volume)), np.array(y).reshape(-1, 1)"
   ]
  },
  {
   "cell_type": "code",
   "execution_count": 5,
   "metadata": {},
   "outputs": [],
   "source": [
    "#Predict closing prices using a 3 day window of previous closing prices\n",
    "window_size1 = 3\n",
    "\n",
    "#Column index 0 is the \"Close\" column\n",
    "#Column index 1 is the \"ts_polarity\"\n",
    "#Column index 2 is the \"twitter_volume\" column\n",
    "feature_col_number1 = 0\n",
    "feature_col_number2 = 1\n",
    "feature_col_number3 = 2\n",
    "target_col_number = 0 \n",
    "#X, y = window_data(df, window_size1, feature_col_number1, feature_col_number2, feature_col_number3, target_col_number)\n"
   ]
  },
  {
   "cell_type": "code",
   "execution_count": 6,
   "metadata": {},
   "outputs": [],
   "source": [
    "def split_data(X, y):\n",
    "    #Use 70% of the data for training and 30% for testing\n",
    "    X_split = int(0.7 * len(X))\n",
    "    y_split = int(0.7 * len(y))\n",
    "\n",
    "    #Set X_train, X_test, y_train, t_test\n",
    "    X_train = X[:X_split]\n",
    "    X_test = X[X_split:]\n",
    "    y_train = y[:y_split]\n",
    "    y_test = y[y_split:]\n",
    "    \n",
    "    return X_train, X_test, y_train, y_test"
   ]
  },
  {
   "cell_type": "markdown",
   "metadata": {},
   "source": [
    "Scaling Data with MinMaxScaler\n",
    "\n",
    "We will use the MinMaxScaler from sklearn to scale all values between 0 and 1. Note that we scale both features and target sets."
   ]
  },
  {
   "cell_type": "code",
   "execution_count": 7,
   "metadata": {},
   "outputs": [],
   "source": [
    "from sklearn.preprocessing import MinMaxScaler"
   ]
  },
  {
   "cell_type": "code",
   "execution_count": 8,
   "metadata": {},
   "outputs": [],
   "source": [
    "def scale_data(X_train, y_train, X_test, y_test):\n",
    "    #Use MinMaxScaler to scale data between 0 and 1\n",
    "    x_train_scaler = MinMaxScaler()\n",
    "    x_test_scaler = MinMaxScaler()\n",
    "    y_train_scaler = MinMaxScaler()\n",
    "    y_test_scaler = MinMaxScaler()\n",
    "\n",
    "    #Fit the scaler for the Training data\n",
    "    x_train_scaler.fit(X_train)\n",
    "    y_train_scaler.fit(y_train)\n",
    "\n",
    "    #Scale the training data\n",
    "    X_train = x_train_scaler.transform(X_train)\n",
    "    y_train = y_train_scaler.transform(y_train)\n",
    "\n",
    "    #Fit the scaler for the Test data \n",
    "    x_test_scaler.fit(X_test)\n",
    "    y_test_scaler.fit(y_test)\n",
    "\n",
    "    #Scale the test data\n",
    "    X_test = x_test_scaler.transform(X_test)\n",
    "    y_test = y_test_scaler.transform(y_test)\n",
    "    \n",
    "    return X_train, y_train, X_test, y_test"
   ]
  },
  {
   "cell_type": "code",
   "execution_count": 9,
   "metadata": {},
   "outputs": [],
   "source": [
    "def create_instance():    \n",
    "    #Create the XG Boost regressor instance\n",
    "    model = XGBRegressor(objective=\"reg:squarederror\", n_estimators=1000)\n",
    "    \n",
    "    return model"
   ]
  },
  {
   "cell_type": "code",
   "execution_count": 10,
   "metadata": {},
   "outputs": [],
   "source": [
    "def fit_model(model, X_train, y_train):   \n",
    "    #Fit the model\n",
    "    model.fit(X_train, y_train.ravel())\n",
    "    \n",
    "    return model"
   ]
  },
  {
   "cell_type": "markdown",
   "metadata": {},
   "source": [
    "Model Performance\n",
    "\n",
    "In this section, we will evaluate the model using the test data.\n",
    "\n",
    "We will:\n",
    "\n",
    "1. Evaluate the model using the X_test and y_test data.\n",
    "2. Use the X_test data to make predictions\n",
    "3. Create a DataFrame of Real (y_test) vs predicted values.\n",
    "4. Plot the Real vs predicted values as a line chart"
   ]
  },
  {
   "cell_type": "code",
   "execution_count": 11,
   "metadata": {},
   "outputs": [],
   "source": [
    "def make_pred(model, X_test)  :  \n",
    "    #Make predictions \n",
    "    predicted = model.predict(X_test)\n",
    "    \n",
    "    return predicted"
   ]
  },
  {
   "cell_type": "code",
   "execution_count": 12,
   "metadata": {},
   "outputs": [],
   "source": [
    "def calc_evaluation(y_test, predicted):\n",
    "    #Evaluation of model\n",
    "    rmse = np.sqrt(metrics.mean_squared_error(y_test, predicted))\n",
    "    r_squared = metrics.r2_score(y_test, predicted)\n",
    "    print(\"Root Mean Squared Error: \", rmse)\n",
    "    print(\"R-squared: \", r_squared)\n",
    "    \n",
    "    return rmse, r_squared"
   ]
  },
  {
   "cell_type": "code",
   "execution_count": 13,
   "metadata": {},
   "outputs": [],
   "source": [
    "def show_pred(y_test_scaler):    \n",
    "    #Recover the original prices instead of the scaled version\n",
    "    predicted_prices = y_test_scaler.inverse_transform(predicted.reshape(-1, 1))\n",
    "    real_prices = y_test_scaler.inverse_transform(y_test.reshape(-1, 1))\n",
    "    \n",
    "    #Create a dataframe of Real and Predicted values\n",
    "    stocks = pd.DataFrame({\n",
    "    \"Real\": real_prices.ravel(),\n",
    "    \"Predicted\": predicted_prices.ravel(),\n",
    "    }, index = df.index[-len(real_prices): ])\n",
    "    stocks.head()\n",
    "    \n",
    "    return stocks"
   ]
  },
  {
   "cell_type": "code",
   "execution_count": 14,
   "metadata": {},
   "outputs": [],
   "source": [
    "#Plot the real vs predicted values as a line chart\n",
    "import matplotlib.pyplot as plt\n",
    "import pandas as pd\n",
    "\n",
    "def plot_result(stocks): \n",
    "    # gca stands for 'get current axis'\n",
    "    ax = plt.gca()\n",
    "\n",
    "    stocks.plot(kind='line',y='Real',ax=ax)\n",
    "    stocks.plot(kind='line',y='Predicted', color='red', ax=ax)\n",
    "\n",
    "    plt.show()\n"
   ]
  },
  {
   "cell_type": "code",
   "execution_count": 15,
   "metadata": {},
   "outputs": [],
   "source": [
    "aapl_df = read_csv(\"../input_data/aapl_input.csv\")\n",
    "btc_df = read_csv(\"../input_data/aapl_input.csv\")\n",
    "jnj_df = read_csv(\"../input_data/aapl_input.csv\")\n",
    "msft_df = read_csv(\"../input_data/aapl_input.csv\")\n",
    "nflx_df = read_csv(\"../input_data/aapl_input.csv\")\n",
    "pfe_df = read_csv(\"../input_data/aapl_input.csv\")\n",
    "tsla_df = read_csv(\"../input_data/aapl_input.csv\")\n",
    "twr_df = read_csv(\"../input_data/aapl_input.csv\")"
   ]
  },
  {
   "cell_type": "code",
   "execution_count": 16,
   "metadata": {},
   "outputs": [
    {
     "name": "stderr",
     "output_type": "stream",
     "text": [
      "/Users/namirsacic/anaconda3/lib/python3.7/site-packages/ipykernel_launcher.py:6: SettingWithCopyWarning: \n",
      "A value is trying to be set on a copy of a slice from a DataFrame.\n",
      "Try using .loc[row_indexer,col_indexer] = value instead\n",
      "\n",
      "See the caveats in the documentation: https://pandas.pydata.org/pandas-docs/stable/user_guide/indexing.html#returning-a-view-versus-a-copy\n",
      "  \n",
      "/Users/namirsacic/anaconda3/lib/python3.7/site-packages/ipykernel_launcher.py:9: SettingWithCopyWarning: \n",
      "A value is trying to be set on a copy of a slice from a DataFrame\n",
      "\n",
      "See the caveats in the documentation: https://pandas.pydata.org/pandas-docs/stable/user_guide/indexing.html#returning-a-view-versus-a-copy\n",
      "  if __name__ == '__main__':\n"
     ]
    }
   ],
   "source": [
    "aapl_df = adjusted_df(aapl_df)\n",
    "btc_df = adjusted_df(btc_df)\n",
    "jnj_df = adjusted_df(jnj_df)\n",
    "msft_df = adjusted_df(msft_df)\n",
    "nflx_df = adjusted_df(nflx_df)\n",
    "pfe_df = adjusted_df(pfe_df)\n",
    "tsla_df = adjusted_df(tsla_df)\n",
    "twr_df = adjusted_df(twr_df)"
   ]
  },
  {
   "cell_type": "code",
   "execution_count": 17,
   "metadata": {},
   "outputs": [
    {
     "ename": "TypeError",
     "evalue": "window_data() takes 5 positional arguments but 6 were given",
     "output_type": "error",
     "traceback": [
      "\u001b[0;31m---------------------------------------------------------------------------\u001b[0m",
      "\u001b[0;31mTypeError\u001b[0m                                 Traceback (most recent call last)",
      "\u001b[0;32m<ipython-input-17-17089836941b>\u001b[0m in \u001b[0;36m<module>\u001b[0;34m\u001b[0m\n\u001b[0;32m----> 1\u001b[0;31m \u001b[0mX_aapl\u001b[0m\u001b[0;34m,\u001b[0m \u001b[0my_aapl\u001b[0m \u001b[0;34m=\u001b[0m \u001b[0mwindow_data\u001b[0m\u001b[0;34m(\u001b[0m\u001b[0maapl_df\u001b[0m\u001b[0;34m,\u001b[0m \u001b[0mwindow_size1\u001b[0m\u001b[0;34m,\u001b[0m \u001b[0mfeature_col_number1\u001b[0m\u001b[0;34m,\u001b[0m \u001b[0mfeature_col_number2\u001b[0m\u001b[0;34m,\u001b[0m \u001b[0mfeature_col_number3\u001b[0m\u001b[0;34m,\u001b[0m \u001b[0mtarget_col_number\u001b[0m\u001b[0;34m)\u001b[0m\u001b[0;34m\u001b[0m\u001b[0;34m\u001b[0m\u001b[0m\n\u001b[0m\u001b[1;32m      2\u001b[0m \u001b[0mX_btc\u001b[0m\u001b[0;34m,\u001b[0m \u001b[0my_btc\u001b[0m \u001b[0;34m=\u001b[0m \u001b[0mwindow_data\u001b[0m\u001b[0;34m(\u001b[0m\u001b[0mbtc_df\u001b[0m\u001b[0;34m,\u001b[0m \u001b[0mwindow_size1\u001b[0m\u001b[0;34m,\u001b[0m \u001b[0mfeature_col_number1\u001b[0m\u001b[0;34m,\u001b[0m \u001b[0mfeature_col_number2\u001b[0m\u001b[0;34m,\u001b[0m \u001b[0mfeature_col_number3\u001b[0m\u001b[0;34m,\u001b[0m \u001b[0mtarget_col_number\u001b[0m\u001b[0;34m)\u001b[0m\u001b[0;34m\u001b[0m\u001b[0;34m\u001b[0m\u001b[0m\n\u001b[1;32m      3\u001b[0m \u001b[0mX_jnj\u001b[0m\u001b[0;34m,\u001b[0m \u001b[0my_jnj\u001b[0m \u001b[0;34m=\u001b[0m \u001b[0mwindow_data\u001b[0m\u001b[0;34m(\u001b[0m\u001b[0mjnj_df\u001b[0m\u001b[0;34m,\u001b[0m \u001b[0mwindow_size1\u001b[0m\u001b[0;34m,\u001b[0m \u001b[0mfeature_col_number1\u001b[0m\u001b[0;34m,\u001b[0m \u001b[0mfeature_col_number2\u001b[0m\u001b[0;34m,\u001b[0m \u001b[0mfeature_col_number3\u001b[0m\u001b[0;34m,\u001b[0m \u001b[0mtarget_col_number\u001b[0m\u001b[0;34m)\u001b[0m\u001b[0;34m\u001b[0m\u001b[0;34m\u001b[0m\u001b[0m\n\u001b[1;32m      4\u001b[0m \u001b[0mX_msft\u001b[0m\u001b[0;34m,\u001b[0m \u001b[0my_msft\u001b[0m \u001b[0;34m=\u001b[0m \u001b[0mwindow_data\u001b[0m\u001b[0;34m(\u001b[0m\u001b[0mmsft_df\u001b[0m\u001b[0;34m,\u001b[0m \u001b[0mwindow_size1\u001b[0m\u001b[0;34m,\u001b[0m \u001b[0mfeature_col_number1\u001b[0m\u001b[0;34m,\u001b[0m \u001b[0mfeature_col_number2\u001b[0m\u001b[0;34m,\u001b[0m \u001b[0mfeature_col_number3\u001b[0m\u001b[0;34m,\u001b[0m \u001b[0mtarget_col_number\u001b[0m\u001b[0;34m)\u001b[0m\u001b[0;34m\u001b[0m\u001b[0;34m\u001b[0m\u001b[0m\n\u001b[1;32m      5\u001b[0m \u001b[0mX_nflx\u001b[0m\u001b[0;34m,\u001b[0m \u001b[0my_nflx\u001b[0m \u001b[0;34m=\u001b[0m \u001b[0mwindow_data\u001b[0m\u001b[0;34m(\u001b[0m\u001b[0mnflx_df\u001b[0m\u001b[0;34m,\u001b[0m \u001b[0mwindow_size1\u001b[0m\u001b[0;34m,\u001b[0m \u001b[0mfeature_col_number1\u001b[0m\u001b[0;34m,\u001b[0m \u001b[0mfeature_col_number2\u001b[0m\u001b[0;34m,\u001b[0m \u001b[0mfeature_col_number3\u001b[0m\u001b[0;34m,\u001b[0m \u001b[0mtarget_col_number\u001b[0m\u001b[0;34m)\u001b[0m\u001b[0;34m\u001b[0m\u001b[0;34m\u001b[0m\u001b[0m\n",
      "\u001b[0;31mTypeError\u001b[0m: window_data() takes 5 positional arguments but 6 were given"
     ]
    }
   ],
   "source": [
    "X_aapl, y_aapl = window_data(aapl_df, window_size1, feature_col_number1, feature_col_number2, feature_col_number3, target_col_number)\n",
    "X_btc, y_btc = window_data(btc_df, window_size1, feature_col_number1, feature_col_number2, feature_col_number3, target_col_number)\n",
    "X_jnj, y_jnj = window_data(jnj_df, window_size1, feature_col_number1, feature_col_number2, feature_col_number3, target_col_number)\n",
    "X_msft, y_msft = window_data(msft_df, window_size1, feature_col_number1, feature_col_number2, feature_col_number3, target_col_number)\n",
    "X_nflx, y_nflx = window_data(nflx_df, window_size1, feature_col_number1, feature_col_number2, feature_col_number3, target_col_number)\n",
    "X_pfe, y_pfe = window_data(pfe_df, window_size1, feature_col_number1, feature_col_number2, feature_col_number3, target_col_number)\n",
    "X_tsla, y_tsla = window_data(tsla_df, window_size1, feature_col_number1, feature_col_number2, feature_col_number3, target_col_number)\n",
    "X_twr, y_twr = window_data(twr_df, window_size1, feature_col_number1, feature_col_number2, feature_col_number3, target_col_number)"
   ]
  },
  {
   "cell_type": "code",
   "execution_count": null,
   "metadata": {},
   "outputs": [],
   "source": []
  }
 ],
 "metadata": {
  "kernelspec": {
   "display_name": "Python 3",
   "language": "python",
   "name": "python3"
  },
  "language_info": {
   "codemirror_mode": {
    "name": "ipython",
    "version": 3
   },
   "file_extension": ".py",
   "mimetype": "text/x-python",
   "name": "python",
   "nbconvert_exporter": "python",
   "pygments_lexer": "ipython3",
   "version": "3.7.3"
  }
 },
 "nbformat": 4,
 "nbformat_minor": 4
}

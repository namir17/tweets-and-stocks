{
 "cells": [
  {
   "cell_type": "code",
   "execution_count": 1,
   "metadata": {},
   "outputs": [],
   "source": [
    "import pandas as pd\n",
    "import numpy as np\n",
    "from path import Path\n",
    "from sklearn.preprocessing import StandardScaler\n",
    "from sklearn.model_selection import train_test_split\n",
    "from sklearn.metrics import confusion_matrix, accuracy_score, classification_report\n",
    "from sklearn.ensemble import RandomForestClassifier\n"
   ]
  },
  {
   "cell_type": "code",
   "execution_count": 2,
   "metadata": {},
   "outputs": [],
   "source": [
    "def read_csv(csv_name):  \n",
    "    # Loading data\n",
    "    file_path = Path(\"../input_data/aapl_input.csv\")\n",
    "    df = pd.read_csv(file_path)\n",
    "    df.head()\n",
    "    \n",
    "    return df"
   ]
  },
  {
   "cell_type": "code",
   "execution_count": 3,
   "metadata": {},
   "outputs": [],
   "source": [
    "def adjusted_df(df):\n",
    "    # Dataframe with Date, Adj close,  Volume, ts_polarity, twitter_volume of APPL\n",
    "    df = df[[\"Date\", \"Adj Close\", \"Volume\", \"compound\", \"Count\"]]\n",
    "    df.head()\n",
    "    \n",
    "    return df"
   ]
  },
  {
   "cell_type": "code",
   "execution_count": 4,
   "metadata": {},
   "outputs": [],
   "source": [
    "def set_index(df):\n",
    "    # Setting Index as Date\n",
    "    df = df.dropna()\n",
    "    df.set_index(\"Date\", inplace = True)\n",
    "    \n",
    "    return df"
   ]
  },
  {
   "cell_type": "code",
   "execution_count": 5,
   "metadata": {},
   "outputs": [],
   "source": [
    "def assign_values(df):   \n",
    "    # Sorting ts_polarity into Positive, Negative and Neutral sentiment\n",
    "\n",
    "    sentiment = [] \n",
    "    for score in df['compound']:\n",
    "        if score >= 0.05 :\n",
    "              sentiment.append(\"Positive\") \n",
    "        elif score <= - 0.05 : \n",
    "              sentiment.append(\"Negative\")        \n",
    "        else : \n",
    "            sentiment.append(\"Neutral\")   \n",
    "\n",
    "    df[\"Sentiment\"] = sentiment\n",
    "    \n",
    "    return df"
   ]
  },
  {
   "cell_type": "code",
   "execution_count": 6,
   "metadata": {},
   "outputs": [],
   "source": [
    "def set_trend(df):   \n",
    "    #Stock Trend based on difference between current price to previous day price and coverting them to '0' as fall and '1' as rise in stock price\n",
    "    df['Price Diff'] = df['Adj Close'].diff()\n",
    "    df.dropna(inplace = True)\n",
    "    df['Trend'] = np.where(\n",
    "        df['Price Diff'] > 0 , 1, 0)\n",
    "\n",
    "    df.head()\n",
    "    \n",
    "    return df"
   ]
  },
  {
   "cell_type": "code",
   "execution_count": 7,
   "metadata": {},
   "outputs": [],
   "source": [
    "def binary_encoding(df):  \n",
    "    # Binary encoding Sentiment column\n",
    "    trend = df[[\"Adj Close\", \"Volume\", 'Count', \"Sentiment\", \"Trend\"]]\n",
    "    trend = pd.get_dummies(trend, columns=[\"Sentiment\"])\n",
    "    trend.head()\n",
    "    \n",
    "    return trend"
   ]
  },
  {
   "cell_type": "code",
   "execution_count": 8,
   "metadata": {},
   "outputs": [],
   "source": [
    "def define_features(trend):    \n",
    "    # Defining features set\n",
    "    X = trend.copy()\n",
    "    X.drop(\"Trend\", axis=1, inplace=True)\n",
    "    X.head()\n",
    "    \n",
    "    return X\n"
   ]
  },
  {
   "cell_type": "code",
   "execution_count": 9,
   "metadata": {},
   "outputs": [],
   "source": [
    "def define_target(trend):   \n",
    "    # Defining target vector\n",
    "    y = trend[\"Trend\"].values.reshape(-1, 1)\n",
    "    y[:5]\n",
    "    \n",
    "    return y"
   ]
  },
  {
   "cell_type": "code",
   "execution_count": 10,
   "metadata": {},
   "outputs": [],
   "source": [
    "def split_data(X, y): \n",
    "    # Splitting into Train and Test sets\n",
    "    split = int(0.7 * len(X))\n",
    "\n",
    "    X_train = X[: split]\n",
    "    X_test = X[split:]\n",
    "\n",
    "    y_train = y[: split]\n",
    "    y_test = y[split:]\n",
    "    \n",
    "    return X_train, X_test, y_train, y_test"
   ]
  },
  {
   "cell_type": "code",
   "execution_count": 11,
   "metadata": {},
   "outputs": [],
   "source": [
    "def scale_data(X_train, X_test):    \n",
    "    # Using StandardScaler to scale features data\n",
    "    scaler = StandardScaler()\n",
    "    X_scaler = scaler.fit(X_train)\n",
    "    X_train_scaled = X_scaler.transform(X_train)\n",
    "    X_test_scaled = X_scaler.transform(X_test)\n",
    "    \n",
    "    return X_train_scaled, X_test_scaled"
   ]
  },
  {
   "cell_type": "code",
   "execution_count": 12,
   "metadata": {},
   "outputs": [],
   "source": [
    "def fit_model(X_train_scaled, y_train):   \n",
    "    # Create RFClassifier model\n",
    "    rf_model = RandomForestClassifier(n_estimators=500, random_state=78)\n",
    "\n",
    "    # Fit the model\n",
    "    rf_model = rf_model.fit(X_train_scaled, y_train.ravel())  \n",
    "    \n",
    "    return rf_model"
   ]
  },
  {
   "cell_type": "code",
   "execution_count": 29,
   "metadata": {},
   "outputs": [],
   "source": [
    "def make_prediction(model, X_test_scaled, y_test, stock_name):   \n",
    "    # Make predictions\n",
    "    predictions = model.predict(X_test_scaled)\n",
    "    pd.DataFrame({\"Prediction\": predictions, \"Actual\": y_test.ravel()}).head(20)\n",
    "\n",
    "    # Generate accuracy score for predictions using y_test\n",
    "    acc_score = accuracy_score(y_test, predictions)\n",
    "    print(f\"Accuracy Score : {acc_score} for \" + stock_name)\n",
    "    \n",
    "    return predictions"
   ]
  },
  {
   "cell_type": "code",
   "execution_count": 14,
   "metadata": {},
   "outputs": [],
   "source": [
    "def generate_conf_matrix(y_test, predictions):    \n",
    "    # Generating the confusion matrix\n",
    "    cm = confusion_matrix(y_test, predictions)\n",
    "    cm_df = pd.DataFrame(\n",
    "        cm, index=[\"Actual 0\", \"Actual 1\"],\n",
    "        columns=[\"Predicted 0\", \"Predicted 1\"]\n",
    "    )\n",
    "\n",
    "    # Displaying results\n",
    "    display(cm_df)"
   ]
  },
  {
   "cell_type": "code",
   "execution_count": 15,
   "metadata": {},
   "outputs": [],
   "source": [
    "aapl_df = read_csv(\"../input_data/aapl_input.csv\")\n",
    "btc_df = read_csv(\"../input_data/btc_input.csv\")\n",
    "nflx_df = read_csv(\"../input_data/nflx_input.csv\")\n",
    "pfe_df = read_csv(\"../input_data/pfe_input.csv\")\n",
    "msft_df = read_csv(\"../input_data/msft_input.csv\")\n",
    "tsla_df = read_csv(\"../input_data/tsla_input.csv\")"
   ]
  },
  {
   "cell_type": "code",
   "execution_count": 16,
   "metadata": {},
   "outputs": [],
   "source": [
    "aapl_df = adjusted_df(aapl_df)\n",
    "btc_df = adjusted_df(btc_df)\n",
    "nflx_df = adjusted_df(nflx_df)\n",
    "pfe_df = adjusted_df(pfe_df)\n",
    "msft_df = adjusted_df(msft_df)\n",
    "tsla_df = adjusted_df(tsla_df)"
   ]
  },
  {
   "cell_type": "code",
   "execution_count": 17,
   "metadata": {},
   "outputs": [],
   "source": [
    "aapl_df = set_index(aapl_df)\n",
    "btc_df = set_index(btc_df)\n",
    "nflx_df = set_index(nflx_df)\n",
    "pfe_df = set_index(pfe_df)\n",
    "msft_df = set_index(msft_df)\n",
    "tsla_df = set_index(tsla_df)"
   ]
  },
  {
   "cell_type": "code",
   "execution_count": 18,
   "metadata": {},
   "outputs": [],
   "source": [
    "aapl_df = assign_values(aapl_df)\n",
    "btc_df = assign_values(btc_df)\n",
    "nflx_df = assign_values(nflx_df)\n",
    "pfe_df = assign_values(pfe_df)\n",
    "msft_df = assign_values(msft_df)\n",
    "tsla_df = assign_values(tsla_df)"
   ]
  },
  {
   "cell_type": "code",
   "execution_count": 19,
   "metadata": {},
   "outputs": [],
   "source": [
    "aapl_df = set_trend(aapl_df)\n",
    "btc_df = set_trend(btc_df)\n",
    "nflx_df = set_trend(nflx_df)\n",
    "pfe_df = set_trend(pfe_df)\n",
    "msft_df = set_trend(msft_df)\n",
    "tsla_df = set_trend(tsla_df)"
   ]
  },
  {
   "cell_type": "code",
   "execution_count": 20,
   "metadata": {},
   "outputs": [],
   "source": [
    "aapl_trend = binary_encoding(aapl_df)\n",
    "btc_trend = binary_encoding(btc_df)\n",
    "nflx_trend = binary_encoding(nflx_df)\n",
    "pfe_trend = binary_encoding(pfe_df)\n",
    "msft_trend = binary_encoding(msft_df)\n",
    "tsla_trend = binary_encoding(tsla_df)"
   ]
  },
  {
   "cell_type": "code",
   "execution_count": 21,
   "metadata": {},
   "outputs": [],
   "source": [
    "X_aapl = define_features(aapl_trend)\n",
    "X_btc = define_features(btc_trend)\n",
    "X_nflx = define_features(nflx_trend)\n",
    "X_pfe = define_features(pfe_trend)\n",
    "X_msft = define_features(msft_trend)\n",
    "X_tsla = define_features(tsla_trend)"
   ]
  },
  {
   "cell_type": "code",
   "execution_count": 22,
   "metadata": {},
   "outputs": [],
   "source": [
    "y_aapl = define_target(aapl_trend)\n",
    "y_btc = define_target(btc_trend)\n",
    "y_nflx = define_target(nflx_trend)\n",
    "y_pfe = define_target(pfe_trend)\n",
    "y_msft = define_target(msft_trend)\n",
    "y_tsla = define_target(tsla_trend)"
   ]
  },
  {
   "cell_type": "code",
   "execution_count": 30,
   "metadata": {},
   "outputs": [],
   "source": [
    "X_train_aapl, X_test_aapl, y_train_aapl, y_test_aapl = split_data(X_aapl, y_aapl)\n",
    "X_train_btc, X_test_btc, y_train_btc, y_test_btc = split_data(X_btc, y_btc)\n",
    "X_train_nflx, X_test_nflx, y_train_nflx, y_test_nflx = split_data(X_nflx, y_nflx)\n",
    "X_train_pfe, X_test_pfe, y_train_pfe, y_test_pfe = split_data(X_pfe, y_pfe)\n",
    "X_train_msft, X_test_msft, y_train_msft, y_test_msft = split_data(X_msft, y_msft)\n",
    "X_train_tsla, X_test_tsla, y_train_tsla, y_test_tsla = split_data(X_tsla, y_tsla)"
   ]
  },
  {
   "cell_type": "code",
   "execution_count": 31,
   "metadata": {},
   "outputs": [],
   "source": [
    "X_train_scaled_aapl, X_test_scaled_aapl = scale_data(X_train_aapl, X_test_aapl)\n",
    "X_train_scaled_btc, X_test_scaled_btc = scale_data(X_train_btc, X_test_btc)\n",
    "X_train_scaled_nflx, X_test_scaled_nflx = scale_data(X_train_nflx, X_test_nflx)\n",
    "X_train_scaled_pfe, X_test_scaled_pfe = scale_data(X_train_pfe, X_test_pfe)\n",
    "X_train_scaled_msft, X_test_scaled_msft = scale_data(X_train_msft, X_test_msft)\n",
    "X_train_scaled_tsla, X_test_scaled_tsla = scale_data(X_train_tsla, X_test_tsla)"
   ]
  },
  {
   "cell_type": "code",
   "execution_count": 32,
   "metadata": {},
   "outputs": [],
   "source": [
    "model_aapl = fit_model(X_train_scaled_aapl, y_train_aapl)\n",
    "model_btc = fit_model(X_train_scaled_btc, y_train_btc)\n",
    "model_nflx = fit_model(X_train_scaled_nflx, y_train_nflx)\n",
    "model_pfe = fit_model(X_train_scaled_pfe, y_train_pfe)\n",
    "model_msft = fit_model(X_train_scaled_msft, y_train_msft)\n",
    "model_tsla = fit_model(X_train_scaled_tsla, y_train_tsla)"
   ]
  },
  {
   "cell_type": "code",
   "execution_count": 33,
   "metadata": {},
   "outputs": [
    {
     "name": "stdout",
     "output_type": "stream",
     "text": [
      "Accuracy Score : 0.4933920704845815 for Apple\n",
      "Accuracy Score : 0.4933920704845815 for Bitcoin\n",
      "Accuracy Score : 0.4933920704845815 for Netflix\n",
      "Accuracy Score : 0.4933920704845815 for Pfizer\n",
      "Accuracy Score : 0.4933920704845815 for Microsoft\n",
      "Accuracy Score : 0.4933920704845815 for Tesla\n"
     ]
    }
   ],
   "source": [
    "prediction_aapl = make_prediction(model_aapl, X_test_scaled_aapl, y_test_aapl, \"Apple\")\n",
    "prediction_btc = make_prediction(model_btc, X_test_scaled_btc, y_test_btc, \"Bitcoin\")\n",
    "prediction_nflx = make_prediction(model_nflx, X_test_scaled_nflx, y_test_nflx, \"Netflix\")\n",
    "prediction_pfe = make_prediction(model_pfe, X_test_scaled_pfe, y_test_pfe, \"Pfizer\")\n",
    "prediction_msft = make_prediction(model_msft, X_test_scaled_msft, y_test_msft, \"Microsoft\")\n",
    "prediction_tsla = make_prediction(model_tsla, X_test_scaled_tsla, y_test_tsla, \"Tesla\")"
   ]
  },
  {
   "cell_type": "code",
   "execution_count": 34,
   "metadata": {},
   "outputs": [
    {
     "data": {
      "text/html": [
       "<div>\n",
       "<style scoped>\n",
       "    .dataframe tbody tr th:only-of-type {\n",
       "        vertical-align: middle;\n",
       "    }\n",
       "\n",
       "    .dataframe tbody tr th {\n",
       "        vertical-align: top;\n",
       "    }\n",
       "\n",
       "    .dataframe thead th {\n",
       "        text-align: right;\n",
       "    }\n",
       "</style>\n",
       "<table border=\"1\" class=\"dataframe\">\n",
       "  <thead>\n",
       "    <tr style=\"text-align: right;\">\n",
       "      <th></th>\n",
       "      <th>Predicted 0</th>\n",
       "      <th>Predicted 1</th>\n",
       "    </tr>\n",
       "  </thead>\n",
       "  <tbody>\n",
       "    <tr>\n",
       "      <th>Actual 0</th>\n",
       "      <td>14</td>\n",
       "      <td>103</td>\n",
       "    </tr>\n",
       "    <tr>\n",
       "      <th>Actual 1</th>\n",
       "      <td>12</td>\n",
       "      <td>98</td>\n",
       "    </tr>\n",
       "  </tbody>\n",
       "</table>\n",
       "</div>"
      ],
      "text/plain": [
       "          Predicted 0  Predicted 1\n",
       "Actual 0           14          103\n",
       "Actual 1           12           98"
      ]
     },
     "metadata": {},
     "output_type": "display_data"
    },
    {
     "data": {
      "text/html": [
       "<div>\n",
       "<style scoped>\n",
       "    .dataframe tbody tr th:only-of-type {\n",
       "        vertical-align: middle;\n",
       "    }\n",
       "\n",
       "    .dataframe tbody tr th {\n",
       "        vertical-align: top;\n",
       "    }\n",
       "\n",
       "    .dataframe thead th {\n",
       "        text-align: right;\n",
       "    }\n",
       "</style>\n",
       "<table border=\"1\" class=\"dataframe\">\n",
       "  <thead>\n",
       "    <tr style=\"text-align: right;\">\n",
       "      <th></th>\n",
       "      <th>Predicted 0</th>\n",
       "      <th>Predicted 1</th>\n",
       "    </tr>\n",
       "  </thead>\n",
       "  <tbody>\n",
       "    <tr>\n",
       "      <th>Actual 0</th>\n",
       "      <td>14</td>\n",
       "      <td>103</td>\n",
       "    </tr>\n",
       "    <tr>\n",
       "      <th>Actual 1</th>\n",
       "      <td>12</td>\n",
       "      <td>98</td>\n",
       "    </tr>\n",
       "  </tbody>\n",
       "</table>\n",
       "</div>"
      ],
      "text/plain": [
       "          Predicted 0  Predicted 1\n",
       "Actual 0           14          103\n",
       "Actual 1           12           98"
      ]
     },
     "metadata": {},
     "output_type": "display_data"
    },
    {
     "data": {
      "text/html": [
       "<div>\n",
       "<style scoped>\n",
       "    .dataframe tbody tr th:only-of-type {\n",
       "        vertical-align: middle;\n",
       "    }\n",
       "\n",
       "    .dataframe tbody tr th {\n",
       "        vertical-align: top;\n",
       "    }\n",
       "\n",
       "    .dataframe thead th {\n",
       "        text-align: right;\n",
       "    }\n",
       "</style>\n",
       "<table border=\"1\" class=\"dataframe\">\n",
       "  <thead>\n",
       "    <tr style=\"text-align: right;\">\n",
       "      <th></th>\n",
       "      <th>Predicted 0</th>\n",
       "      <th>Predicted 1</th>\n",
       "    </tr>\n",
       "  </thead>\n",
       "  <tbody>\n",
       "    <tr>\n",
       "      <th>Actual 0</th>\n",
       "      <td>14</td>\n",
       "      <td>103</td>\n",
       "    </tr>\n",
       "    <tr>\n",
       "      <th>Actual 1</th>\n",
       "      <td>12</td>\n",
       "      <td>98</td>\n",
       "    </tr>\n",
       "  </tbody>\n",
       "</table>\n",
       "</div>"
      ],
      "text/plain": [
       "          Predicted 0  Predicted 1\n",
       "Actual 0           14          103\n",
       "Actual 1           12           98"
      ]
     },
     "metadata": {},
     "output_type": "display_data"
    },
    {
     "data": {
      "text/html": [
       "<div>\n",
       "<style scoped>\n",
       "    .dataframe tbody tr th:only-of-type {\n",
       "        vertical-align: middle;\n",
       "    }\n",
       "\n",
       "    .dataframe tbody tr th {\n",
       "        vertical-align: top;\n",
       "    }\n",
       "\n",
       "    .dataframe thead th {\n",
       "        text-align: right;\n",
       "    }\n",
       "</style>\n",
       "<table border=\"1\" class=\"dataframe\">\n",
       "  <thead>\n",
       "    <tr style=\"text-align: right;\">\n",
       "      <th></th>\n",
       "      <th>Predicted 0</th>\n",
       "      <th>Predicted 1</th>\n",
       "    </tr>\n",
       "  </thead>\n",
       "  <tbody>\n",
       "    <tr>\n",
       "      <th>Actual 0</th>\n",
       "      <td>14</td>\n",
       "      <td>103</td>\n",
       "    </tr>\n",
       "    <tr>\n",
       "      <th>Actual 1</th>\n",
       "      <td>12</td>\n",
       "      <td>98</td>\n",
       "    </tr>\n",
       "  </tbody>\n",
       "</table>\n",
       "</div>"
      ],
      "text/plain": [
       "          Predicted 0  Predicted 1\n",
       "Actual 0           14          103\n",
       "Actual 1           12           98"
      ]
     },
     "metadata": {},
     "output_type": "display_data"
    },
    {
     "data": {
      "text/html": [
       "<div>\n",
       "<style scoped>\n",
       "    .dataframe tbody tr th:only-of-type {\n",
       "        vertical-align: middle;\n",
       "    }\n",
       "\n",
       "    .dataframe tbody tr th {\n",
       "        vertical-align: top;\n",
       "    }\n",
       "\n",
       "    .dataframe thead th {\n",
       "        text-align: right;\n",
       "    }\n",
       "</style>\n",
       "<table border=\"1\" class=\"dataframe\">\n",
       "  <thead>\n",
       "    <tr style=\"text-align: right;\">\n",
       "      <th></th>\n",
       "      <th>Predicted 0</th>\n",
       "      <th>Predicted 1</th>\n",
       "    </tr>\n",
       "  </thead>\n",
       "  <tbody>\n",
       "    <tr>\n",
       "      <th>Actual 0</th>\n",
       "      <td>14</td>\n",
       "      <td>103</td>\n",
       "    </tr>\n",
       "    <tr>\n",
       "      <th>Actual 1</th>\n",
       "      <td>12</td>\n",
       "      <td>98</td>\n",
       "    </tr>\n",
       "  </tbody>\n",
       "</table>\n",
       "</div>"
      ],
      "text/plain": [
       "          Predicted 0  Predicted 1\n",
       "Actual 0           14          103\n",
       "Actual 1           12           98"
      ]
     },
     "metadata": {},
     "output_type": "display_data"
    },
    {
     "data": {
      "text/html": [
       "<div>\n",
       "<style scoped>\n",
       "    .dataframe tbody tr th:only-of-type {\n",
       "        vertical-align: middle;\n",
       "    }\n",
       "\n",
       "    .dataframe tbody tr th {\n",
       "        vertical-align: top;\n",
       "    }\n",
       "\n",
       "    .dataframe thead th {\n",
       "        text-align: right;\n",
       "    }\n",
       "</style>\n",
       "<table border=\"1\" class=\"dataframe\">\n",
       "  <thead>\n",
       "    <tr style=\"text-align: right;\">\n",
       "      <th></th>\n",
       "      <th>Predicted 0</th>\n",
       "      <th>Predicted 1</th>\n",
       "    </tr>\n",
       "  </thead>\n",
       "  <tbody>\n",
       "    <tr>\n",
       "      <th>Actual 0</th>\n",
       "      <td>14</td>\n",
       "      <td>103</td>\n",
       "    </tr>\n",
       "    <tr>\n",
       "      <th>Actual 1</th>\n",
       "      <td>12</td>\n",
       "      <td>98</td>\n",
       "    </tr>\n",
       "  </tbody>\n",
       "</table>\n",
       "</div>"
      ],
      "text/plain": [
       "          Predicted 0  Predicted 1\n",
       "Actual 0           14          103\n",
       "Actual 1           12           98"
      ]
     },
     "metadata": {},
     "output_type": "display_data"
    }
   ],
   "source": [
    "generate_conf_matrix(y_test_aapl, prediction_aapl)\n",
    "generate_conf_matrix(y_test_btc, prediction_btc)\n",
    "generate_conf_matrix(y_test_nflx, prediction_nflx)\n",
    "generate_conf_matrix(y_test_pfe, prediction_pfe)\n",
    "generate_conf_matrix(y_test_msft, prediction_msft)\n",
    "generate_conf_matrix(y_test_tsla, prediction_tsla)"
   ]
  },
  {
   "cell_type": "code",
   "execution_count": null,
   "metadata": {},
   "outputs": [],
   "source": []
  }
 ],
 "metadata": {
  "file_extension": ".py",
  "kernelspec": {
   "display_name": "Python 3",
   "language": "python",
   "name": "python3"
  },
  "language_info": {
   "codemirror_mode": {
    "name": "ipython",
    "version": 3
   },
   "file_extension": ".py",
   "mimetype": "text/x-python",
   "name": "python",
   "nbconvert_exporter": "python",
   "pygments_lexer": "ipython3",
   "version": "3.7.3"
  },
  "mimetype": "text/x-python",
  "name": "python",
  "npconvert_exporter": "python",
  "pygments_lexer": "ipython3",
  "version": 3
 },
 "nbformat": 4,
 "nbformat_minor": 4
}

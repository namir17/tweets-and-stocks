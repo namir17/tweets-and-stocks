{
 "cells": [
  {
   "cell_type": "code",
   "execution_count": 1,
   "metadata": {},
   "outputs": [],
   "source": [
    "import pandas as pd\n",
    "from path import Path"
   ]
  },
  {
   "cell_type": "code",
   "execution_count": 2,
   "metadata": {},
   "outputs": [],
   "source": [
    "def csv_to_df(stock_csv, sentiment_results_csv):\n",
    "    file_path1 = Path(stock_csv)\n",
    "    file_path2 = Path(sentiment_results_csv)\n",
    "    stock_df = pd.read_csv(file_path1)\n",
    "    sentiment_result = pd.read_csv(file_path2)\n",
    "    \n",
    "    return stock_df, sentiment_result"
   ]
  },
  {
   "cell_type": "code",
   "execution_count": 3,
   "metadata": {},
   "outputs": [],
   "source": [
    "def add_count(sentiment_result_df): \n",
    "    a=sentiment_result_df.groupby(\"created_at\").size().values\n",
    "    sentiment_result_df= sentiment_result_df.drop_duplicates(subset=\"created_at\").assign(Count=a)\n",
    "    \n",
    "    return sentiment_result_df"
   ]
  },
  {
   "cell_type": "code",
   "execution_count": 4,
   "metadata": {},
   "outputs": [],
   "source": [
    "def split_df(sentiment_result_df): \n",
    "    df_count = sentiment_result_df[[\"created_at\", \"Count\"]]\n",
    "    df_compound = sentiment_result_df[[\"created_at\", \"compound\"]]\n",
    "    \n",
    "    return df_count, df_compound"
   ]
  },
  {
   "cell_type": "code",
   "execution_count": 5,
   "metadata": {},
   "outputs": [],
   "source": [
    "#Calculation of the mean polarity/day\n",
    "def calculate_mean(sent_results_df):\n",
    "    sent_results_df['Date'] = pd.to_datetime(sent_results_df.created_at, format='%Y-%m-%d')\n",
    "    compound_mean = sent_results_df.groupby(sent_results_df['Date'].dt.date).mean()\n",
    "    \n",
    "    return compound_mean"
   ]
  },
  {
   "cell_type": "code",
   "execution_count": 6,
   "metadata": {},
   "outputs": [],
   "source": [
    "#Calculation of the sum of tweets/day\n",
    "def calculate_sum(sent_results_df):\n",
    "    sent_results_df['Date'] = pd.to_datetime(sent_results_df.created_at, format='%Y-%m-%d')\n",
    "    count_sum = sent_results_df.groupby(sent_results_df['Date'].dt.date).sum()\n",
    "    \n",
    "    return count_sum"
   ]
  },
  {
   "cell_type": "code",
   "execution_count": 7,
   "metadata": {},
   "outputs": [],
   "source": [
    "#Combination of polarity mean and count sum\n",
    "def join_dfs(compound_df, count_df):\n",
    "    sentiment_result_df = pd.concat([compound_df, count_df], axis=1)\n",
    "    \n",
    "    return sentiment_result_df"
   ]
  },
  {
   "cell_type": "code",
   "execution_count": 8,
   "metadata": {},
   "outputs": [],
   "source": [
    "#Merge of stock data and sentiment results\n",
    "def merge_dfs(stock_df, sum_sent):\n",
    "    stock_df['Date'] = pd.to_datetime(stock_df.Date, format='%Y-%m-%d')\n",
    "    stock_df = stock_df.set_index(\"Date\")\n",
    "    input_df = pd.concat([stock_df, sum_sent], axis=1)\n",
    "    \n",
    "    return input_df"
   ]
  },
  {
   "cell_type": "code",
   "execution_count": 9,
   "metadata": {},
   "outputs": [],
   "source": [
    "def create_csv(input_df, csv_name):\n",
    "    input_df.to_csv(csv_name, encoding='utf-8', index=True)"
   ]
  },
  {
   "cell_type": "code",
   "execution_count": 10,
   "metadata": {},
   "outputs": [],
   "source": [
    "aapl_stock_df, aapl_sent_result_df = csv_to_df(\"../stock_data/aapl.csv\", \"../sentiment_analysis/sentiment_analysis/aapl_sent_results.csv\")\n",
    "btc_stock_df, btc_sent_result_df = csv_to_df(\"../stock_data/btc.csv\", \"../sentiment_analysis/sentiment_analysis/btc_sent_results.csv\")\n",
    "jnj_stock_df, jnj_sent_result_df = csv_to_df(\"../stock_data/jnj.csv\", \"../sentiment_analysis/sentiment_analysis/jnj_sent_results.csv\")\n",
    "msft_stock_df, msft_sent_result_df = csv_to_df(\"../stock_data/msft.csv\", \"../sentiment_analysis/sentiment_analysis/msft_sent_results.csv\")\n",
    "nflx_stock_df, nflx_sent_result_df = csv_to_df(\"../stock_data/nflx.csv\", \"../sentiment_analysis/sentiment_analysis/nflx_sent_results.csv\")\n",
    "pfe_stock_df, pfe_sent_result_df = csv_to_df(\"../stock_data/pfe.csv\", \"../sentiment_analysis/sentiment_analysis/pfe_sent_results.csv\")\n",
    "tsla_stock_df, tsla_sent_result_df = csv_to_df(\"../stock_data/tsla.csv\", \"../sentiment_analysis/sentiment_analysis/tsla_sent_results.csv\")\n",
    "twr_stock_df, twr_sent_result_df = csv_to_df(\"../stock_data/twr.csv\", \"../sentiment_analysis/sentiment_analysis/twr_sent_results.csv\")"
   ]
  },
  {
   "cell_type": "code",
   "execution_count": 11,
   "metadata": {},
   "outputs": [],
   "source": [
    "aapl_sent_result_df = add_count(aapl_sent_result_df)\n",
    "btc_sent_result_df = add_count(btc_sent_result_df)\n",
    "jnj_sent_result_df = add_count(jnj_sent_result_df)\n",
    "msft_sent_result_df = add_count(msft_sent_result_df)\n",
    "nflx_sent_result_df = add_count(nflx_sent_result_df)\n",
    "pfe_sent_result_df = add_count(pfe_sent_result_df)\n",
    "tsla_sent_result_df = add_count(tsla_sent_result_df)\n",
    "twr_sent_result_df = add_count(twr_sent_result_df)"
   ]
  },
  {
   "cell_type": "code",
   "execution_count": 12,
   "metadata": {},
   "outputs": [],
   "source": [
    "aapl_tweet_count, aapl_compound = split_df(aapl_sent_result_df)\n",
    "btc_tweet_count, btc_compound = split_df(btc_sent_result_df)\n",
    "jnj_tweet_count, jnj_compound = split_df(jnj_sent_result_df)\n",
    "msft_tweet_count, msft_compound = split_df(msft_sent_result_df)\n",
    "nflx_tweet_count, nflx_compound = split_df(nflx_sent_result_df)\n",
    "pfe_tweet_count, pfe_compound = split_df(pfe_sent_result_df)\n",
    "tsla_tweet_count, tsla_compound = split_df(tsla_sent_result_df)\n",
    "twr_tweet_count, twr_compound = split_df(twr_sent_result_df)"
   ]
  },
  {
   "cell_type": "code",
   "execution_count": 13,
   "metadata": {},
   "outputs": [
    {
     "name": "stderr",
     "output_type": "stream",
     "text": [
      "/Users/namirsacic/anaconda3/lib/python3.7/site-packages/ipykernel_launcher.py:2: SettingWithCopyWarning: \n",
      "A value is trying to be set on a copy of a slice from a DataFrame.\n",
      "Try using .loc[row_indexer,col_indexer] = value instead\n",
      "\n",
      "See the caveats in the documentation: https://pandas.pydata.org/pandas-docs/stable/user_guide/indexing.html#returning-a-view-versus-a-copy\n",
      "  \n"
     ]
    }
   ],
   "source": [
    "aapl_compound_mean = calculate_mean(aapl_compound)\n",
    "btc_compound_mean = calculate_mean(btc_compound)\n",
    "jnj_compound_mean = calculate_mean(jnj_compound)\n",
    "msft_compound_mean = calculate_mean(msft_compound)\n",
    "nflx_compound_mean = calculate_mean(nflx_compound)\n",
    "pfe_compound_mean = calculate_mean(pfe_compound)\n",
    "tsla_compound_mean = calculate_mean(tsla_compound)\n",
    "twr_compound_mean = calculate_mean(twr_compound)"
   ]
  },
  {
   "cell_type": "code",
   "execution_count": 14,
   "metadata": {},
   "outputs": [
    {
     "name": "stderr",
     "output_type": "stream",
     "text": [
      "/Users/namirsacic/anaconda3/lib/python3.7/site-packages/ipykernel_launcher.py:2: SettingWithCopyWarning: \n",
      "A value is trying to be set on a copy of a slice from a DataFrame.\n",
      "Try using .loc[row_indexer,col_indexer] = value instead\n",
      "\n",
      "See the caveats in the documentation: https://pandas.pydata.org/pandas-docs/stable/user_guide/indexing.html#returning-a-view-versus-a-copy\n",
      "  \n"
     ]
    }
   ],
   "source": [
    "aapl_count_sum = calculate_sum(aapl_tweet_count)\n",
    "btc_count_sum = calculate_sum(btc_tweet_count)\n",
    "jnj_count_sum = calculate_sum(jnj_tweet_count)\n",
    "msft_count_sum = calculate_sum(msft_tweet_count)\n",
    "nflx_count_sum = calculate_sum(nflx_tweet_count)\n",
    "pfe_count_sum = calculate_sum(pfe_tweet_count)\n",
    "tsla_count_sum = calculate_sum(tsla_tweet_count)\n",
    "twr_count_sum = calculate_sum(twr_tweet_count)"
   ]
  },
  {
   "cell_type": "code",
   "execution_count": 15,
   "metadata": {},
   "outputs": [],
   "source": [
    "sum_aapl_sent = join_dfs(aapl_compound_mean, aapl_count_sum)\n",
    "sum_btc_sent = join_dfs(btc_compound_mean, btc_count_sum)\n",
    "sum_jnj_sent = join_dfs(jnj_compound_mean, jnj_count_sum)\n",
    "sum_msft_sent = join_dfs(msft_compound_mean, msft_count_sum)\n",
    "sum_nflx_sent = join_dfs(nflx_compound_mean, nflx_count_sum)\n",
    "sum_pfe_sent = join_dfs(pfe_compound_mean, pfe_count_sum)\n",
    "sum_tsla_sent = join_dfs(tsla_compound_mean, tsla_count_sum)\n",
    "sum_twr_sent = join_dfs(twr_compound_mean, twr_count_sum)"
   ]
  },
  {
   "cell_type": "code",
   "execution_count": 16,
   "metadata": {},
   "outputs": [],
   "source": [
    "aapl_input_df = merge_dfs(aapl_stock_df, sum_aapl_sent)\n",
    "btc_input_df = merge_dfs(btc_stock_df, sum_btc_sent)\n",
    "jnj_input_df = merge_dfs(jnj_stock_df, sum_jnj_sent)\n",
    "msft_input_df = merge_dfs(msft_stock_df, sum_msft_sent)\n",
    "nflx_input_df = merge_dfs(nflx_stock_df, sum_nflx_sent)\n",
    "pfe_input_df = merge_dfs(pfe_stock_df, sum_pfe_sent)\n",
    "tsla_input_df = merge_dfs(tsla_stock_df, sum_tsla_sent)\n",
    "twr_input_df = merge_dfs(twr_stock_df, sum_twr_sent)"
   ]
  },
  {
   "cell_type": "code",
   "execution_count": 17,
   "metadata": {},
   "outputs": [],
   "source": [
    "create_csv(aapl_input_df, \"aapl_input.csv\")\n",
    "create_csv(btc_input_df, \"btc_input.csv\")\n",
    "create_csv(jnj_input_df, \"jnj_input.csv\") \n",
    "create_csv(msft_input_df, \"msft_input.csv\")\n",
    "create_csv(nflx_input_df, \"nflx_input.csv\")\n",
    "create_csv(pfe_input_df, \"pfe_input.csv\")\n",
    "create_csv(tsla_input_df, \"tsla_input.csv\")\n",
    "create_csv(twr_input_df, \"twr_input.csv\")"
   ]
  }
 ],
 "metadata": {
  "kernelspec": {
   "display_name": "Python 3",
   "language": "python",
   "name": "python3"
  },
  "language_info": {
   "codemirror_mode": {
    "name": "ipython",
    "version": 3
   },
   "file_extension": ".py",
   "mimetype": "text/x-python",
   "name": "python",
   "nbconvert_exporter": "python",
   "pygments_lexer": "ipython3",
   "version": "3.7.3"
  }
 },
 "nbformat": 4,
 "nbformat_minor": 4
}

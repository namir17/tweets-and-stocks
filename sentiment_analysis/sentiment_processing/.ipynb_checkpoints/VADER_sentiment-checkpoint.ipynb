{
 "cells": [
  {
   "cell_type": "code",
   "execution_count": 1,
   "metadata": {},
   "outputs": [
    {
     "name": "stderr",
     "output_type": "stream",
     "text": [
      "[nltk_data] Downloading package stopwords to\n",
      "[nltk_data]     /Users/namirsacic/nltk_data...\n",
      "[nltk_data]   Package stopwords is already up-to-date!\n",
      "[nltk_data] Downloading package vader_lexicon to\n",
      "[nltk_data]     /Users/namirsacic/nltk_data...\n",
      "[nltk_data]   Package vader_lexicon is already up-to-date!\n"
     ]
    }
   ],
   "source": [
    "import pandas as pd \n",
    "import numpy as np \n",
    "from path import Path\n",
    "\n",
    "import matplotlib.pyplot as plt \n",
    "import re\n",
    "import string\n",
    "\n",
    "import nltk\n",
    "from nltk.tokenize import sent_tokenize\n",
    "from nltk.corpus import words\n",
    "from nltk.corpus import stopwords\n",
    "from nltk.tokenize import word_tokenize\n",
    "from nltk.stem import WordNetLemmatizer\n",
    "from nltk.stem import PorterStemmer\n",
    "from nltk.sentiment.vader import SentimentIntensityAnalyzer\n",
    "from nltk.sentiment.util import *\n",
    "nltk.download('stopwords')\n",
    "nltk.download('vader_lexicon')\n",
    "\n",
    "\n",
    "from collections import Counter\n",
    "\n",
    "from matplotlib import pyplot as plt\n",
    "from matplotlib import ticker\n",
    "import seaborn as sns\n",
    "import plotly.express as px\n",
    "\n",
    "sns.set(style=\"darkgrid\")"
   ]
  },
  {
   "cell_type": "code",
   "execution_count": 2,
   "metadata": {},
   "outputs": [],
   "source": [
    "def csv_to_df(csv_file):\n",
    "    file_path = Path(csv_file)\n",
    "    df = pd.read_csv(file_path)\n",
    "    \n",
    "    return df"
   ]
  },
  {
   "cell_type": "code",
   "execution_count": 3,
   "metadata": {},
   "outputs": [],
   "source": [
    "def extract_columns(df):\n",
    "    df_for_sent_analysis = df[[\"created_at\", \"tweet\"]].copy()\n",
    "    \n",
    "    return df_for_sent_analysis"
   ]
  },
  {
   "cell_type": "code",
   "execution_count": 4,
   "metadata": {},
   "outputs": [],
   "source": [
    "#Get Polarity of Tweets\n",
    "sid = SentimentIntensityAnalyzer()\n",
    "ps = lambda x: sid.polarity_scores(x)\n",
    "\n",
    "def sentiment_analysis(df):\n",
    "    sentiment_scores = df.tweet.apply(ps)\n",
    "    \n",
    "    return sentiment_scores"
   ]
  },
  {
   "cell_type": "code",
   "execution_count": 5,
   "metadata": {},
   "outputs": [],
   "source": [
    "#Join polarity results with dataframe\n",
    "def join_data(sentiment_scores, df):\n",
    "    sentiment_df = pd.DataFrame(data = list(sentiment_scores))\n",
    "    data = df.join(sentiment_df.compound)\n",
    "    \n",
    "    return data"
   ]
  },
  {
   "cell_type": "code",
   "execution_count": 17,
   "metadata": {},
   "outputs": [],
   "source": [
    "def create_csv(df, csv_name):\n",
    "    df.to_csv(csv_name, encoding='utf-8', index=False)"
   ]
  },
  {
   "cell_type": "code",
   "execution_count": 8,
   "metadata": {},
   "outputs": [],
   "source": [
    "aapl_df = csv_to_df(\"../sentiment_analysis/preprocessing/aapl_cleaned.csv\")\n",
    "btc_df = csv_to_df(\"../sentiment_analysis/preprocessing/btc_cleaned.csv\")\n",
    "intc_df = csv_to_df(\"../sentiment_analysis/preprocessing/intc_cleaned.csv\")\n",
    "jnj_df = csv_to_df(\"../sentiment_analysis/preprocessing/jnj_cleaned.csv\")\n",
    "msft_df = csv_to_df(\"../sentiment_analysis/preprocessing/msft_cleaned.csv\")\n",
    "nflx_df = csv_to_df(\"../sentiment_analysis/preprocessing/nflx_cleaned.csv\")\n",
    "pfe_df = csv_to_df(\"../sentiment_analysis/preprocessing/pfe_cleaned.csv\")\n",
    "tsla_df = csv_to_df(\"../sentiment_analysis/preprocessing/tsla_cleaned.csv\")\n",
    "twr_df = csv_to_df(\"../sentiment_analysis/preprocessing/twr_cleaned.csv\")"
   ]
  },
  {
   "cell_type": "code",
   "execution_count": 9,
   "metadata": {},
   "outputs": [],
   "source": [
    "aapl_sent_df = extract_columns(aapl_df)\n",
    "btc_sent_df = extract_columns(btc_df)\n",
    "intc_sent_df = extract_columns(intc_df)\n",
    "jnj_sent_df = extract_columns(jnj_df)\n",
    "msft_sent_df = extract_columns(msft_df)\n",
    "nflx_sent_df = extract_columns(nflx_df)\n",
    "pfe_sent_df = extract_columns(pfe_df)\n",
    "tsla_sent_df = extract_columns(tsla_df)\n",
    "twr_sent_df = extract_columns(twr_df)"
   ]
  },
  {
   "cell_type": "code",
   "execution_count": 16,
   "metadata": {},
   "outputs": [],
   "source": [
    "sentiment_score_aapl = sentiment_analysis(aapl_sent_df)\n",
    "sentiment_score_btc = sentiment_analysis(btc_sent_df)\n",
    "sentiment_score_jnj = sentiment_analysis(jnj_sent_df)\n",
    "sentiment_score_msft = sentiment_analysis(msft_sent_df)\n",
    "sentiment_score_nflx = sentiment_analysis(nflx_sent_df)\n",
    "sentiment_score_pfe = sentiment_analysis(pfe_sent_df)\n",
    "sentiment_score_tsla = sentiment_analysis(tsla_sent_df)\n",
    "sentiment_score_twr = sentiment_analysis(twr_sent_df)"
   ]
  },
  {
   "cell_type": "code",
   "execution_count": 18,
   "metadata": {},
   "outputs": [],
   "source": [
    "aapl_sent_results = join_data(sentiment_score_aapl, aapl_sent_df)\n",
    "btc_sent_results = join_data(sentiment_score_btc, btc_sent_df)\n",
    "jnj_sent_results = join_data(sentiment_score_jnj, jnj_sent_df)\n",
    "msft_sent_results = join_data(sentiment_score_msft, msft_sent_df)\n",
    "nflx_sent_results = join_data(sentiment_score_nflx, nflx_sent_df)\n",
    "pfe_sent_results = join_data(sentiment_score_pfe, pfe_sent_df)\n",
    "tsla_sent_results = join_data(sentiment_score_tsla, tsla_sent_df)\n",
    "twr_sent_results = join_data(sentiment_score_twr, twr_sent_df)"
   ]
  },
  {
   "cell_type": "code",
   "execution_count": 19,
   "metadata": {},
   "outputs": [],
   "source": [
    "create_csv(aapl_sent_results, \"aapl_sent_results.csv\")\n",
    "create_csv(btc_sent_results, \"btc_sent_results.csv\")\n",
    "create_csv(jnj_sent_results, \"jnj_sent_results.csv\")\n",
    "create_csv(msft_sent_results, \"msft_sent_results.csv\")\n",
    "create_csv(nflx_sent_results, \"nflx_sent_results.csv\")\n",
    "create_csv(pfe_sent_results, \"pfe_sent_results.csv\")\n",
    "create_csv(tsla_sent_results, \"tsla_sent_results.csv\")\n",
    "create_csv(twr_sent_results, \"twr_sent_results.csv\")"
   ]
  },
  {
   "cell_type": "code",
   "execution_count": null,
   "metadata": {},
   "outputs": [],
   "source": []
  }
 ],
 "metadata": {
  "kernelspec": {
   "display_name": "Python 3",
   "language": "python",
   "name": "python3"
  },
  "language_info": {
   "codemirror_mode": {
    "name": "ipython",
    "version": 3
   },
   "file_extension": ".py",
   "mimetype": "text/x-python",
   "name": "python",
   "nbconvert_exporter": "python",
   "pygments_lexer": "ipython3",
   "version": "3.7.3"
  }
 },
 "nbformat": 4,
 "nbformat_minor": 4
}
